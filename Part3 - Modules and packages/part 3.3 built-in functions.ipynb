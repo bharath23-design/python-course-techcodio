{
 "cells": [
  {
   "cell_type": "markdown",
   "id": "3e524fda",
   "metadata": {},
   "source": [
    "# 15 important Built-in functions in python\n",
    "1. print()\n",
    "2. min ()\n",
    "3. max ()\n",
    "4. round ()\n",
    "5. str ()\n",
    "6. sum ()\n",
    "7. zip()\n",
    "8. int()\n",
    "9. float()\n",
    "10. input()\n",
    "11. range()\n",
    "12. len()\n",
    "13. sorted()\n",
    "14. type()\n",
    "15. abs()"
   ]
  },
  {
   "cell_type": "code",
   "execution_count": 5,
   "id": "39eab19b",
   "metadata": {},
   "outputs": [],
   "source": [
    "# 1.print() => output functions"
   ]
  },
  {
   "cell_type": "code",
   "execution_count": 2,
   "id": "5dc28aa7",
   "metadata": {},
   "outputs": [
    {
     "name": "stdout",
     "output_type": "stream",
     "text": [
      "3\n"
     ]
    }
   ],
   "source": [
    "print(3)"
   ]
  },
  {
   "cell_type": "code",
   "execution_count": 3,
   "id": "d36a70d6",
   "metadata": {},
   "outputs": [
    {
     "name": "stdout",
     "output_type": "stream",
     "text": [
      "string\n"
     ]
    }
   ],
   "source": [
    "print('string')"
   ]
  },
  {
   "cell_type": "code",
   "execution_count": 4,
   "id": "8ea73ff4",
   "metadata": {},
   "outputs": [
    {
     "name": "stdout",
     "output_type": "stream",
     "text": [
      "[9, 0, 4]\n"
     ]
    }
   ],
   "source": [
    "print([9,0,4])"
   ]
  },
  {
   "cell_type": "code",
   "execution_count": 6,
   "id": "da65292b",
   "metadata": {},
   "outputs": [],
   "source": [
    "# 2.min()"
   ]
  },
  {
   "cell_type": "code",
   "execution_count": 7,
   "id": "a571a33d",
   "metadata": {},
   "outputs": [
    {
     "data": {
      "text/plain": [
       "1"
      ]
     },
     "execution_count": 7,
     "metadata": {},
     "output_type": "execute_result"
    }
   ],
   "source": [
    "lst=[1,2,3,4,5]\n",
    "min(lst)"
   ]
  },
  {
   "cell_type": "code",
   "execution_count": 8,
   "id": "2ee1eb36",
   "metadata": {},
   "outputs": [],
   "source": [
    "# 3. max() =>\n"
   ]
  },
  {
   "cell_type": "code",
   "execution_count": 9,
   "id": "ee70a76b",
   "metadata": {},
   "outputs": [
    {
     "data": {
      "text/plain": [
       "5"
      ]
     },
     "execution_count": 9,
     "metadata": {},
     "output_type": "execute_result"
    }
   ],
   "source": [
    "max(lst)"
   ]
  },
  {
   "cell_type": "code",
   "execution_count": 10,
   "id": "838260fa",
   "metadata": {},
   "outputs": [],
   "source": [
    "# 4.round()"
   ]
  },
  {
   "cell_type": "code",
   "execution_count": 11,
   "id": "bd866240",
   "metadata": {},
   "outputs": [],
   "source": [
    "var=4.567"
   ]
  },
  {
   "cell_type": "code",
   "execution_count": 12,
   "id": "8544118c",
   "metadata": {},
   "outputs": [
    {
     "data": {
      "text/plain": [
       "4.6"
      ]
     },
     "execution_count": 12,
     "metadata": {},
     "output_type": "execute_result"
    }
   ],
   "source": [
    "round(var,1)"
   ]
  },
  {
   "cell_type": "code",
   "execution_count": 14,
   "id": "232938a2",
   "metadata": {},
   "outputs": [
    {
     "data": {
      "text/plain": [
       "4.567"
      ]
     },
     "execution_count": 14,
     "metadata": {},
     "output_type": "execute_result"
    }
   ],
   "source": [
    "round(var,3)"
   ]
  },
  {
   "cell_type": "code",
   "execution_count": 16,
   "id": "cf0fd630",
   "metadata": {},
   "outputs": [
    {
     "data": {
      "text/plain": [
       "str"
      ]
     },
     "execution_count": 16,
     "metadata": {},
     "output_type": "execute_result"
    }
   ],
   "source": [
    "# 5. str() => string function\n",
    "var=300\n",
    "type(str(var))"
   ]
  },
  {
   "cell_type": "code",
   "execution_count": 17,
   "id": "d117afbb",
   "metadata": {},
   "outputs": [
    {
     "data": {
      "text/plain": [
       "[1, 2, 3, 4, 5]"
      ]
     },
     "execution_count": 17,
     "metadata": {},
     "output_type": "execute_result"
    }
   ],
   "source": [
    "# 6. sum()\n",
    "lst"
   ]
  },
  {
   "cell_type": "code",
   "execution_count": 18,
   "id": "32d3ff09",
   "metadata": {},
   "outputs": [
    {
     "data": {
      "text/plain": [
       "15"
      ]
     },
     "execution_count": 18,
     "metadata": {},
     "output_type": "execute_result"
    }
   ],
   "source": [
    "sum(lst)"
   ]
  },
  {
   "cell_type": "markdown",
   "id": "fcbd6622",
   "metadata": {},
   "source": [
    "# 7. zip()\n",
    "In Python, the zip() function is used to combine two or more lists (or any other iterables) into a single iterable, where elements from corresponding positions are paired together."
   ]
  },
  {
   "cell_type": "code",
   "execution_count": 44,
   "id": "af4f691d",
   "metadata": {
    "scrolled": true
   },
   "outputs": [
    {
     "name": "stdout",
     "output_type": "stream",
     "text": [
      "[('Manjeet', 4), ('Nikhil', 1), ('Shambhavi', 3), ('Astha', 2)]\n"
     ]
    }
   ],
   "source": [
    "name = [ \"Manjeet\", \"Nikhil\", \"Shambhavi\", \"Astha\" ]\n",
    "roll_no = [ 4, 1, 3, 2 ]\n",
    " \n",
    "# using zip() to map values\n",
    "mapped = zip(name, roll_no)\n",
    "#print(mapped) \n",
    "print(list(mapped))"
   ]
  },
  {
   "cell_type": "code",
   "execution_count": 45,
   "id": "116d47a1",
   "metadata": {},
   "outputs": [],
   "source": [
    "# 8. int()=> int,float => int\n"
   ]
  },
  {
   "cell_type": "code",
   "execution_count": 47,
   "id": "3462eaa3",
   "metadata": {},
   "outputs": [
    {
     "data": {
      "text/plain": [
       "int"
      ]
     },
     "execution_count": 47,
     "metadata": {},
     "output_type": "execute_result"
    }
   ],
   "source": [
    "v='4'\n",
    "type(int(v))"
   ]
  },
  {
   "cell_type": "code",
   "execution_count": 48,
   "id": "8e240dca",
   "metadata": {},
   "outputs": [
    {
     "data": {
      "text/plain": [
       "5"
      ]
     },
     "execution_count": 48,
     "metadata": {},
     "output_type": "execute_result"
    }
   ],
   "source": [
    "v=5.6\n",
    "int(v)"
   ]
  },
  {
   "cell_type": "code",
   "execution_count": 49,
   "id": "2168c38f",
   "metadata": {},
   "outputs": [],
   "source": [
    "# 9. float= float,int=> float"
   ]
  },
  {
   "cell_type": "code",
   "execution_count": 51,
   "id": "35ed8ac7",
   "metadata": {},
   "outputs": [
    {
     "data": {
      "text/plain": [
       "float"
      ]
     },
     "execution_count": 51,
     "metadata": {},
     "output_type": "execute_result"
    }
   ],
   "source": [
    "f='5.6'\n",
    "type(float(f))"
   ]
  },
  {
   "cell_type": "code",
   "execution_count": 52,
   "id": "04a68bfe",
   "metadata": {},
   "outputs": [
    {
     "data": {
      "text/plain": [
       "7.0"
      ]
     },
     "execution_count": 52,
     "metadata": {},
     "output_type": "execute_result"
    }
   ],
   "source": [
    "f=7\n",
    "float(f)"
   ]
  },
  {
   "cell_type": "code",
   "execution_count": 53,
   "id": "ecfc9cd7",
   "metadata": {},
   "outputs": [],
   "source": [
    "# 10. input()=> string"
   ]
  },
  {
   "cell_type": "code",
   "execution_count": 56,
   "id": "924745a2",
   "metadata": {},
   "outputs": [
    {
     "name": "stdout",
     "output_type": "stream",
     "text": [
      "enter your age22\n"
     ]
    }
   ],
   "source": [
    "name=int(input('enter your age'))"
   ]
  },
  {
   "cell_type": "code",
   "execution_count": 57,
   "id": "a5530eed",
   "metadata": {},
   "outputs": [
    {
     "data": {
      "text/plain": [
       "22"
      ]
     },
     "execution_count": 57,
     "metadata": {},
     "output_type": "execute_result"
    }
   ],
   "source": [
    "name"
   ]
  },
  {
   "cell_type": "code",
   "execution_count": 58,
   "id": "7437a5cf",
   "metadata": {},
   "outputs": [],
   "source": [
    "# 11. range(start,stop,step)"
   ]
  },
  {
   "cell_type": "code",
   "execution_count": 62,
   "id": "431c9fd5",
   "metadata": {},
   "outputs": [
    {
     "name": "stdout",
     "output_type": "stream",
     "text": [
      "0\n",
      "3\n",
      "6\n",
      "9\n"
     ]
    }
   ],
   "source": [
    "for i in range(0,11,3):\n",
    "    print(i)"
   ]
  },
  {
   "cell_type": "code",
   "execution_count": 63,
   "id": "dd727bd7",
   "metadata": {},
   "outputs": [],
   "source": [
    "# 12.len()"
   ]
  },
  {
   "cell_type": "code",
   "execution_count": 64,
   "id": "d46b6112",
   "metadata": {},
   "outputs": [
    {
     "data": {
      "text/plain": [
       "[1, 2, 3, 4, 5, 5]"
      ]
     },
     "execution_count": 64,
     "metadata": {},
     "output_type": "execute_result"
    }
   ],
   "source": [
    "lst"
   ]
  },
  {
   "cell_type": "code",
   "execution_count": 65,
   "id": "88b0a728",
   "metadata": {},
   "outputs": [
    {
     "data": {
      "text/plain": [
       "6"
      ]
     },
     "execution_count": 65,
     "metadata": {},
     "output_type": "execute_result"
    }
   ],
   "source": [
    "len(lst)"
   ]
  },
  {
   "cell_type": "code",
   "execution_count": 66,
   "id": "d2ea4483",
   "metadata": {},
   "outputs": [],
   "source": [
    "#13. sorted() => asc,desc\n"
   ]
  },
  {
   "cell_type": "code",
   "execution_count": 67,
   "id": "65aa9756",
   "metadata": {},
   "outputs": [
    {
     "data": {
      "text/plain": [
       "[0, 1, 2, 2, 3, 4, 7, 8, 9]"
      ]
     },
     "execution_count": 67,
     "metadata": {},
     "output_type": "execute_result"
    }
   ],
   "source": [
    "roll=[4,2,3,7,8,9,0,1,2]\n",
    "sorted(roll)"
   ]
  },
  {
   "cell_type": "code",
   "execution_count": 68,
   "id": "905960d5",
   "metadata": {},
   "outputs": [
    {
     "data": {
      "text/plain": [
       "[9, 8, 7, 4, 3, 2, 2, 1, 0]"
      ]
     },
     "execution_count": 68,
     "metadata": {},
     "output_type": "execute_result"
    }
   ],
   "source": [
    "sorted(roll,reverse=True)"
   ]
  },
  {
   "cell_type": "code",
   "execution_count": 69,
   "id": "05b703f0",
   "metadata": {},
   "outputs": [
    {
     "data": {
      "text/plain": [
       "list"
      ]
     },
     "execution_count": 69,
     "metadata": {},
     "output_type": "execute_result"
    }
   ],
   "source": [
    "# 14. type()\n",
    "type(roll)"
   ]
  },
  {
   "cell_type": "code",
   "execution_count": 71,
   "id": "646320e0",
   "metadata": {},
   "outputs": [
    {
     "data": {
      "text/plain": [
       "float"
      ]
     },
     "execution_count": 71,
     "metadata": {},
     "output_type": "execute_result"
    }
   ],
   "source": [
    "v=5.0\n",
    "type(v)"
   ]
  },
  {
   "cell_type": "markdown",
   "id": "6a9f001e",
   "metadata": {},
   "source": [
    "# 15. abs\n",
    "#The Python abs() function return the absolute value. The absolute value of any number is always positive it removes the negative sign of a number in Python"
   ]
  },
  {
   "cell_type": "code",
   "execution_count": 76,
   "id": "992458b5",
   "metadata": {},
   "outputs": [
    {
     "data": {
      "text/plain": [
       "100"
      ]
     },
     "execution_count": 76,
     "metadata": {},
     "output_type": "execute_result"
    }
   ],
   "source": [
    "v=-100\n",
    "abs(v)"
   ]
  },
  {
   "cell_type": "code",
   "execution_count": null,
   "id": "74436528",
   "metadata": {},
   "outputs": [],
   "source": []
  }
 ],
 "metadata": {
  "kernelspec": {
   "display_name": "Python 3 (ipykernel)",
   "language": "python",
   "name": "python3"
  },
  "language_info": {
   "codemirror_mode": {
    "name": "ipython",
    "version": 3
   },
   "file_extension": ".py",
   "mimetype": "text/x-python",
   "name": "python",
   "nbconvert_exporter": "python",
   "pygments_lexer": "ipython3",
   "version": "3.9.13"
  }
 },
 "nbformat": 4,
 "nbformat_minor": 5
}
