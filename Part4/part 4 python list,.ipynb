{
 "cells": [
  {
   "cell_type": "markdown",
   "id": "14c02c76",
   "metadata": {},
   "source": [
    "# Agenda\n",
    "- what is list ?\n",
    "- creating list\n",
    "- indexing and slicing\n",
    "- modifying the list\n",
    "- concatenation\n",
    "- iterating \n",
    "- list methods\n",
    "- assignments"
   ]
  },
  {
   "cell_type": "markdown",
   "id": "43b23c5b",
   "metadata": {},
   "source": [
    "# What is list ?\n",
    "- In Python, a list is a data structure that allows you to store and organize a collection of items.\n",
    "- Lists are ordered, mutable (modifiable), and can contain elements of different data types, such as integers, strings, floats, or even other lists.\n",
    "- List is defined by enclosing a comma-separated sequence of values within square brackets []"
   ]
  },
  {
   "cell_type": "markdown",
   "id": "6d1deca5",
   "metadata": {},
   "source": [
    "# Creating list\n",
    "- 2 ways\n"
   ]
  },
  {
   "cell_type": "code",
   "execution_count": 4,
   "id": "14251a93",
   "metadata": {},
   "outputs": [
    {
     "data": {
      "text/plain": [
       "list"
      ]
     },
     "execution_count": 4,
     "metadata": {},
     "output_type": "execute_result"
    }
   ],
   "source": [
    "data=['bharath',22,5.8,['c','C++','Python']]\n",
    "type(data)"
   ]
  },
  {
   "cell_type": "markdown",
   "id": "197ee86a",
   "metadata": {},
   "source": [
    "It is also possible to use the list() constructor when creating a new list."
   ]
  },
  {
   "cell_type": "code",
   "execution_count": 5,
   "id": "6825298e",
   "metadata": {},
   "outputs": [
    {
     "data": {
      "text/plain": [
       "[1, 2, 3, 4, 45, 5]"
      ]
     },
     "execution_count": 5,
     "metadata": {},
     "output_type": "execute_result"
    }
   ],
   "source": [
    "#list()\n",
    "new_list=list((1,2,3,4,45,5))\n",
    "new_list"
   ]
  },
  {
   "cell_type": "markdown",
   "id": "8313e68d",
   "metadata": {},
   "source": [
    "# Indexing\n",
    "- accessing the elements in the list"
   ]
  },
  {
   "cell_type": "code",
   "execution_count": null,
   "id": "6e34a0f3",
   "metadata": {},
   "outputs": [],
   "source": [
    "# positive: 0 to end => left to right\n",
    "# negative:-1 to the end => right to left"
   ]
  },
  {
   "cell_type": "code",
   "execution_count": 9,
   "id": "a9933bd6",
   "metadata": {},
   "outputs": [
    {
     "data": {
      "text/plain": [
       "4"
      ]
     },
     "execution_count": 9,
     "metadata": {},
     "output_type": "execute_result"
    }
   ],
   "source": [
    "new_list[-3]"
   ]
  },
  {
   "cell_type": "code",
   "execution_count": null,
   "id": "e6cab0c0",
   "metadata": {},
   "outputs": [],
   "source": []
  },
  {
   "cell_type": "markdown",
   "id": "447c55f1",
   "metadata": {},
   "source": [
    "# Slicing \n",
    "- accessing multiple elements in list "
   ]
  },
  {
   "cell_type": "code",
   "execution_count": 25,
   "id": "1235f926",
   "metadata": {},
   "outputs": [
    {
     "data": {
      "text/plain": [
       "[4, 45]"
      ]
     },
     "execution_count": 25,
     "metadata": {},
     "output_type": "execute_result"
    }
   ],
   "source": [
    "#new_list[start,stop,step]\n",
    "new_list[-3:-1]"
   ]
  },
  {
   "cell_type": "code",
   "execution_count": 16,
   "id": "f70b3786",
   "metadata": {},
   "outputs": [
    {
     "data": {
      "text/plain": [
       "[1, 2, 3, 4, 45, 5]"
      ]
     },
     "execution_count": 16,
     "metadata": {},
     "output_type": "execute_result"
    }
   ],
   "source": [
    "new_list"
   ]
  },
  {
   "cell_type": "markdown",
   "id": "c7b50e8b",
   "metadata": {},
   "source": [
    "# MOdifying the list"
   ]
  },
  {
   "cell_type": "code",
   "execution_count": 26,
   "id": "5a34c913",
   "metadata": {},
   "outputs": [
    {
     "data": {
      "text/plain": [
       "[1, 2, 3, 4, 45, 5]"
      ]
     },
     "execution_count": 26,
     "metadata": {},
     "output_type": "execute_result"
    }
   ],
   "source": [
    "new_list"
   ]
  },
  {
   "cell_type": "code",
   "execution_count": 27,
   "id": "980d29af",
   "metadata": {},
   "outputs": [
    {
     "data": {
      "text/plain": [
       "[1, 2, 3, 5, 45, 5]"
      ]
     },
     "execution_count": 27,
     "metadata": {},
     "output_type": "execute_result"
    }
   ],
   "source": [
    "new_list[3]=5\n",
    "new_list"
   ]
  },
  {
   "cell_type": "code",
   "execution_count": 28,
   "id": "6fc4f9f9",
   "metadata": {},
   "outputs": [
    {
     "data": {
      "text/plain": [
       "[1, 2, 3, 5, 95, 5]"
      ]
     },
     "execution_count": 28,
     "metadata": {},
     "output_type": "execute_result"
    }
   ],
   "source": [
    "new_list[-2]=95\n",
    "new_list"
   ]
  },
  {
   "cell_type": "markdown",
   "id": "6d4b7478",
   "metadata": {},
   "source": [
    "# Concatenation of lists"
   ]
  },
  {
   "cell_type": "code",
   "execution_count": 29,
   "id": "a059d204",
   "metadata": {},
   "outputs": [],
   "source": [
    "# adding two lists"
   ]
  },
  {
   "cell_type": "code",
   "execution_count": 30,
   "id": "b25effa2",
   "metadata": {},
   "outputs": [
    {
     "data": {
      "text/plain": [
       "['bharath', 22, 5.8, ['c', 'C++', 'Python']]"
      ]
     },
     "execution_count": 30,
     "metadata": {},
     "output_type": "execute_result"
    }
   ],
   "source": [
    "data"
   ]
  },
  {
   "cell_type": "code",
   "execution_count": 31,
   "id": "a42ef2f1",
   "metadata": {},
   "outputs": [
    {
     "data": {
      "text/plain": [
       "[1, 2, 3, 5, 95, 5]"
      ]
     },
     "execution_count": 31,
     "metadata": {},
     "output_type": "execute_result"
    }
   ],
   "source": [
    "new_list"
   ]
  },
  {
   "cell_type": "code",
   "execution_count": 33,
   "id": "93f8a6f2",
   "metadata": {},
   "outputs": [
    {
     "data": {
      "text/plain": [
       "['bharath', 22, 5.8, ['c', 'C++', 'Python'], 1, 2, 3, 5, 95, 5]"
      ]
     },
     "execution_count": 33,
     "metadata": {},
     "output_type": "execute_result"
    }
   ],
   "source": [
    "adding_list=data + new_list\n",
    "adding_list"
   ]
  },
  {
   "cell_type": "markdown",
   "id": "404172dd",
   "metadata": {},
   "source": [
    "# iterating "
   ]
  },
  {
   "cell_type": "code",
   "execution_count": 34,
   "id": "b9c002ec",
   "metadata": {},
   "outputs": [
    {
     "name": "stdout",
     "output_type": "stream",
     "text": [
      "bharath\n",
      "22\n",
      "5.8\n",
      "['c', 'C++', 'Python']\n",
      "1\n",
      "2\n",
      "3\n",
      "5\n",
      "95\n",
      "5\n"
     ]
    }
   ],
   "source": [
    "for i in adding_list:\n",
    "    print(i)"
   ]
  },
  {
   "cell_type": "code",
   "execution_count": 36,
   "id": "ee8baafa",
   "metadata": {},
   "outputs": [
    {
     "name": "stdout",
     "output_type": "stream",
     "text": [
      "3\n"
     ]
    }
   ],
   "source": [
    "for i in adding_list:\n",
    "    if i==3:\n",
    "        print(i)"
   ]
  },
  {
   "cell_type": "code",
   "execution_count": null,
   "id": "e6d63d5e",
   "metadata": {},
   "outputs": [],
   "source": []
  },
  {
   "cell_type": "markdown",
   "id": "c6367d9f",
   "metadata": {},
   "source": [
    "# List methods\n",
    "- index\n",
    "- append\n",
    "- clear\n",
    "- copy\n",
    "- count\n",
    "- pop\n",
    "- remove\n",
    "- del\n",
    "- insert\n",
    "- min\n",
    "- max\n",
    "- sum"
   ]
  },
  {
   "cell_type": "code",
   "execution_count": 41,
   "id": "e8fa362c",
   "metadata": {},
   "outputs": [
    {
     "name": "stdout",
     "output_type": "stream",
     "text": [
      "[90, 10, 30, 40, 50]\n"
     ]
    }
   ],
   "source": [
    "lst=[90,10,30,40,50]\n",
    "print(lst)"
   ]
  },
  {
   "cell_type": "code",
   "execution_count": 42,
   "id": "b0d4b140",
   "metadata": {},
   "outputs": [],
   "source": [
    "# index"
   ]
  },
  {
   "cell_type": "code",
   "execution_count": 43,
   "id": "c7a879f1",
   "metadata": {},
   "outputs": [
    {
     "data": {
      "text/plain": [
       "2"
      ]
     },
     "execution_count": 43,
     "metadata": {},
     "output_type": "execute_result"
    }
   ],
   "source": [
    "lst.index(30)"
   ]
  },
  {
   "cell_type": "code",
   "execution_count": null,
   "id": "26ade563",
   "metadata": {},
   "outputs": [],
   "source": [
    "#append()=> add elements into the in end"
   ]
  },
  {
   "cell_type": "code",
   "execution_count": 48,
   "id": "56b5052d",
   "metadata": {},
   "outputs": [
    {
     "data": {
      "text/plain": [
       "[90, 10, 30, 40, 50, 100, 100, 100, 200]"
      ]
     },
     "execution_count": 48,
     "metadata": {},
     "output_type": "execute_result"
    }
   ],
   "source": [
    "lst.append(200)\n",
    "lst"
   ]
  },
  {
   "cell_type": "code",
   "execution_count": 49,
   "id": "e427810b",
   "metadata": {},
   "outputs": [],
   "source": [
    "lst.clear()"
   ]
  },
  {
   "cell_type": "code",
   "execution_count": 54,
   "id": "291725bc",
   "metadata": {},
   "outputs": [
    {
     "name": "stdout",
     "output_type": "stream",
     "text": [
      "[90, 10, 30, 40, 50, 30, 30]\n"
     ]
    }
   ],
   "source": [
    "lst=[90,10,30,40,50,30,30]\n",
    "print(lst)"
   ]
  },
  {
   "cell_type": "code",
   "execution_count": 52,
   "id": "bfae879f",
   "metadata": {},
   "outputs": [
    {
     "data": {
      "text/plain": [
       "[90, 10, 30, 40, 50]"
      ]
     },
     "execution_count": 52,
     "metadata": {},
     "output_type": "execute_result"
    }
   ],
   "source": [
    "# copy\n",
    "new_copy_oflist=lst.copy()\n",
    "new_copy_oflist"
   ]
  },
  {
   "cell_type": "code",
   "execution_count": 55,
   "id": "a0fde589",
   "metadata": {},
   "outputs": [
    {
     "data": {
      "text/plain": [
       "3"
      ]
     },
     "execution_count": 55,
     "metadata": {},
     "output_type": "execute_result"
    }
   ],
   "source": [
    "# count()\n",
    "lst.count(30)"
   ]
  },
  {
   "cell_type": "code",
   "execution_count": 57,
   "id": "4927a284",
   "metadata": {},
   "outputs": [
    {
     "data": {
      "text/plain": [
       "[90, 10, 30, 40, 50, 30, 30]"
      ]
     },
     "execution_count": 57,
     "metadata": {},
     "output_type": "execute_result"
    }
   ],
   "source": [
    "# pop => with index value\n",
    "lst"
   ]
  },
  {
   "cell_type": "code",
   "execution_count": 61,
   "id": "1eb5ecef",
   "metadata": {},
   "outputs": [
    {
     "data": {
      "text/plain": [
       "30"
      ]
     },
     "execution_count": 61,
     "metadata": {},
     "output_type": "execute_result"
    }
   ],
   "source": [
    "lst.pop(-1)"
   ]
  },
  {
   "cell_type": "code",
   "execution_count": 62,
   "id": "62b1b8dc",
   "metadata": {},
   "outputs": [
    {
     "data": {
      "text/plain": [
       "[90, 10, 30, 40, 50]"
      ]
     },
     "execution_count": 62,
     "metadata": {},
     "output_type": "execute_result"
    }
   ],
   "source": [
    "lst"
   ]
  },
  {
   "cell_type": "code",
   "execution_count": 66,
   "id": "780c8fd4",
   "metadata": {},
   "outputs": [],
   "source": [
    "# remove\n",
    "lst.remove(50)\n"
   ]
  },
  {
   "cell_type": "code",
   "execution_count": 67,
   "id": "9eac0575",
   "metadata": {},
   "outputs": [
    {
     "data": {
      "text/plain": [
       "[90, 10, 30]"
      ]
     },
     "execution_count": 67,
     "metadata": {},
     "output_type": "execute_result"
    }
   ],
   "source": [
    "lst"
   ]
  },
  {
   "cell_type": "code",
   "execution_count": 68,
   "id": "90ac4de9",
   "metadata": {},
   "outputs": [],
   "source": [
    "del lst[0:3]"
   ]
  },
  {
   "cell_type": "code",
   "execution_count": 69,
   "id": "3a55f42f",
   "metadata": {},
   "outputs": [
    {
     "data": {
      "text/plain": [
       "[]"
      ]
     },
     "execution_count": 69,
     "metadata": {},
     "output_type": "execute_result"
    }
   ],
   "source": [
    "lst"
   ]
  },
  {
   "cell_type": "code",
   "execution_count": 70,
   "id": "e84916d2",
   "metadata": {},
   "outputs": [
    {
     "name": "stdout",
     "output_type": "stream",
     "text": [
      "[90, 10, 30, 40, 50, 30, 30]\n"
     ]
    }
   ],
   "source": [
    "lst=[90,10,30,40,50,30,30]\n",
    "print(lst)"
   ]
  },
  {
   "cell_type": "code",
   "execution_count": 71,
   "id": "9b15efe1",
   "metadata": {},
   "outputs": [],
   "source": [
    "del lst"
   ]
  },
  {
   "cell_type": "code",
   "execution_count": 73,
   "id": "ff190275",
   "metadata": {},
   "outputs": [
    {
     "name": "stdout",
     "output_type": "stream",
     "text": [
      "[90, 10, 30, 40, 50, 30, 30]\n"
     ]
    }
   ],
   "source": [
    "lst=[90,10,30,40,50,30,30]\n",
    "print(lst)"
   ]
  },
  {
   "cell_type": "code",
   "execution_count": null,
   "id": "dc8f4bda",
   "metadata": {},
   "outputs": [],
   "source": [
    "# insert() => index"
   ]
  },
  {
   "cell_type": "code",
   "execution_count": 74,
   "id": "8a2f2898",
   "metadata": {},
   "outputs": [
    {
     "data": {
      "text/plain": [
       "[95, 90, 10, 30, 40, 50, 30, 30]"
      ]
     },
     "execution_count": 74,
     "metadata": {},
     "output_type": "execute_result"
    }
   ],
   "source": [
    "lst.insert(0,95)\n",
    "lst"
   ]
  },
  {
   "cell_type": "code",
   "execution_count": 77,
   "id": "0e2a8254",
   "metadata": {},
   "outputs": [
    {
     "data": {
      "text/plain": [
       "[95, 90, 10, 30, 40, 50, 30, 300, 300, 30, 300]"
      ]
     },
     "execution_count": 77,
     "metadata": {},
     "output_type": "execute_result"
    }
   ],
   "source": [
    "lst.insert(11,300)\n",
    "lst"
   ]
  },
  {
   "cell_type": "markdown",
   "id": "53f8030b",
   "metadata": {},
   "source": [
    "# Assignments"
   ]
  },
  {
   "cell_type": "code",
   "execution_count": null,
   "id": "86b84b55",
   "metadata": {},
   "outputs": [],
   "source": [
    "https://csiplearninghub.com/important-practice-questions-of-list-in-python/"
   ]
  }
 ],
 "metadata": {
  "kernelspec": {
   "display_name": "Python 3 (ipykernel)",
   "language": "python",
   "name": "python3"
  },
  "language_info": {
   "codemirror_mode": {
    "name": "ipython",
    "version": 3
   },
   "file_extension": ".py",
   "mimetype": "text/x-python",
   "name": "python",
   "nbconvert_exporter": "python",
   "pygments_lexer": "ipython3",
   "version": "3.9.13"
  }
 },
 "nbformat": 4,
 "nbformat_minor": 5
}
