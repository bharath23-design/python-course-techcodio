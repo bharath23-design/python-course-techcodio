{
 "cells": [
  {
   "cell_type": "markdown",
   "id": "1476c8bd",
   "metadata": {},
   "source": [
    "# Agenda\n",
    "- what are dictionaries\n",
    "- Accessing the items\n",
    "- changing the items \n",
    "- adding the items\n",
    "- looping \n",
    "- nested dictionaries\n",
    "- dictionaries methods\n"
   ]
  },
  {
   "cell_type": "code",
   "execution_count": null,
   "id": "3b88e164",
   "metadata": {},
   "outputs": [],
   "source": []
  },
  {
   "cell_type": "markdown",
   "id": "aac5a1b9",
   "metadata": {},
   "source": [
    "# What are dictionaries ?\n",
    "Dictionaries are used to store data values in key:value pairs.\n",
    "\n",
    "A dictionary is a collection which is ordered*, changeable and do not allow duplicates."
   ]
  },
  {
   "cell_type": "code",
   "execution_count": 5,
   "id": "3592d270",
   "metadata": {},
   "outputs": [
    {
     "data": {
      "text/plain": [
       "{'a': 'apple', 'b': 'lemon'}"
      ]
     },
     "execution_count": 5,
     "metadata": {},
     "output_type": "execute_result"
    }
   ],
   "source": [
    "# 1 way\n",
    "var={'a':'apple','b':'banana' ,'b':'lemon'}\n",
    "var"
   ]
  },
  {
   "cell_type": "code",
   "execution_count": 2,
   "id": "f3830e37",
   "metadata": {},
   "outputs": [
    {
     "data": {
      "text/plain": [
       "dict"
      ]
     },
     "execution_count": 2,
     "metadata": {},
     "output_type": "execute_result"
    }
   ],
   "source": [
    "type(var)"
   ]
  },
  {
   "cell_type": "code",
   "execution_count": 3,
   "id": "dbcffe18",
   "metadata": {},
   "outputs": [
    {
     "data": {
      "text/plain": [
       "{'a': 'grapes', 'b': 'banana'}"
      ]
     },
     "execution_count": 3,
     "metadata": {},
     "output_type": "execute_result"
    }
   ],
   "source": [
    "var['a']='grapes'\n",
    "var"
   ]
  },
  {
   "cell_type": "code",
   "execution_count": null,
   "id": "333913f6",
   "metadata": {},
   "outputs": [],
   "source": [
    "# var={key:value}"
   ]
  },
  {
   "cell_type": "code",
   "execution_count": 6,
   "id": "67fc7efa",
   "metadata": {},
   "outputs": [
    {
     "data": {
      "text/plain": [
       "{1: 'a', 2: 'b', 3: 'c', 4: 'd'}"
      ]
     },
     "execution_count": 6,
     "metadata": {},
     "output_type": "execute_result"
    }
   ],
   "source": [
    "# 2 way\n"
   ]
  },
  {
   "cell_type": "code",
   "execution_count": 7,
   "id": "134280a0",
   "metadata": {},
   "outputs": [
    {
     "data": {
      "text/plain": [
       "dict"
      ]
     },
     "execution_count": 7,
     "metadata": {},
     "output_type": "execute_result"
    }
   ],
   "source": [
    "type(c)"
   ]
  },
  {
   "cell_type": "markdown",
   "id": "450e4101",
   "metadata": {},
   "source": [
    "# Note\n",
    "- key's do not allow duplicates\n",
    "- values can be duplicates"
   ]
  },
  {
   "cell_type": "markdown",
   "id": "baa3e69f",
   "metadata": {},
   "source": [
    "### Imp. question => how to create empty dictionary ?"
   ]
  },
  {
   "cell_type": "code",
   "execution_count": null,
   "id": "f7aa8498",
   "metadata": {},
   "outputs": [],
   "source": [
    "# set dict= { }"
   ]
  },
  {
   "cell_type": "code",
   "execution_count": 10,
   "id": "597e33f2",
   "metadata": {},
   "outputs": [
    {
     "data": {
      "text/plain": [
       "dict"
      ]
     },
     "execution_count": 10,
     "metadata": {},
     "output_type": "execute_result"
    }
   ],
   "source": [
    "s={ }\n",
    "type(s)"
   ]
  },
  {
   "cell_type": "code",
   "execution_count": 11,
   "id": "459fc2f3",
   "metadata": {},
   "outputs": [
    {
     "data": {
      "text/plain": [
       "set"
      ]
     },
     "execution_count": 11,
     "metadata": {},
     "output_type": "execute_result"
    }
   ],
   "source": [
    "s={1}\n",
    "type(s)"
   ]
  },
  {
   "cell_type": "code",
   "execution_count": null,
   "id": "a361c0f0",
   "metadata": {},
   "outputs": [],
   "source": []
  },
  {
   "cell_type": "markdown",
   "id": "e63a1bfb",
   "metadata": {},
   "source": [
    "# Accessing the items"
   ]
  },
  {
   "cell_type": "code",
   "execution_count": 12,
   "id": "2eb0f329",
   "metadata": {},
   "outputs": [
    {
     "data": {
      "text/plain": [
       "{1: 'a', 2: 'b', 3: 'c', 4: 'd'}"
      ]
     },
     "execution_count": 12,
     "metadata": {},
     "output_type": "execute_result"
    }
   ],
   "source": [
    "a=[1,2,3,4]\n",
    "b=['a','b','c','d']\n",
    "c=dict(zip(a,b))\n",
    "c"
   ]
  },
  {
   "cell_type": "code",
   "execution_count": 13,
   "id": "210e0997",
   "metadata": {},
   "outputs": [
    {
     "data": {
      "text/plain": [
       "'a'"
      ]
     },
     "execution_count": 13,
     "metadata": {},
     "output_type": "execute_result"
    }
   ],
   "source": [
    "c[1]"
   ]
  },
  {
   "cell_type": "code",
   "execution_count": 14,
   "id": "9e652db2",
   "metadata": {},
   "outputs": [
    {
     "data": {
      "text/plain": [
       "'b'"
      ]
     },
     "execution_count": 14,
     "metadata": {},
     "output_type": "execute_result"
    }
   ],
   "source": [
    "c[2]"
   ]
  },
  {
   "cell_type": "code",
   "execution_count": 15,
   "id": "8430b63c",
   "metadata": {},
   "outputs": [
    {
     "data": {
      "text/plain": [
       "'a'"
      ]
     },
     "execution_count": 15,
     "metadata": {},
     "output_type": "execute_result"
    }
   ],
   "source": [
    "c.get(1)"
   ]
  },
  {
   "cell_type": "code",
   "execution_count": 16,
   "id": "02ef10fe",
   "metadata": {},
   "outputs": [
    {
     "data": {
      "text/plain": [
       "'c'"
      ]
     },
     "execution_count": 16,
     "metadata": {},
     "output_type": "execute_result"
    }
   ],
   "source": [
    "c.get(3)"
   ]
  },
  {
   "cell_type": "code",
   "execution_count": 17,
   "id": "3f453489",
   "metadata": {},
   "outputs": [
    {
     "data": {
      "text/plain": [
       "dict_keys([1, 2, 3, 4])"
      ]
     },
     "execution_count": 17,
     "metadata": {},
     "output_type": "execute_result"
    }
   ],
   "source": [
    "c.keys()"
   ]
  },
  {
   "cell_type": "code",
   "execution_count": 18,
   "id": "72d4769d",
   "metadata": {},
   "outputs": [
    {
     "data": {
      "text/plain": [
       "dict_values(['a', 'b', 'c', 'd'])"
      ]
     },
     "execution_count": 18,
     "metadata": {},
     "output_type": "execute_result"
    }
   ],
   "source": [
    "c.values()"
   ]
  },
  {
   "cell_type": "code",
   "execution_count": null,
   "id": "1fd87b17",
   "metadata": {},
   "outputs": [],
   "source": []
  },
  {
   "cell_type": "markdown",
   "id": "98a01f54",
   "metadata": {},
   "source": [
    "# Changing the items\n"
   ]
  },
  {
   "cell_type": "code",
   "execution_count": 19,
   "id": "dff12a12",
   "metadata": {},
   "outputs": [
    {
     "data": {
      "text/plain": [
       "{1: 'a', 2: 'b', 3: 'c', 4: 'd'}"
      ]
     },
     "execution_count": 19,
     "metadata": {},
     "output_type": "execute_result"
    }
   ],
   "source": [
    "c"
   ]
  },
  {
   "cell_type": "code",
   "execution_count": 20,
   "id": "7455bfcf",
   "metadata": {},
   "outputs": [
    {
     "data": {
      "text/plain": [
       "{1: 'apple', 2: 'car', 3: 'bike', 4: 'string'}"
      ]
     },
     "execution_count": 20,
     "metadata": {},
     "output_type": "execute_result"
    }
   ],
   "source": [
    "c[1]='apple'\n",
    "c[2]='car'\n",
    "c[3]='bike'\n",
    "c[4]='string'\n",
    "c"
   ]
  },
  {
   "cell_type": "markdown",
   "id": "85dade90",
   "metadata": {},
   "source": [
    "# adding the items "
   ]
  },
  {
   "cell_type": "code",
   "execution_count": 21,
   "id": "218f66ec",
   "metadata": {},
   "outputs": [
    {
     "data": {
      "text/plain": [
       "{1: 'apple', 2: 'car', 3: 'bike', 4: 'string', 5: 'five', 6: 'six'}"
      ]
     },
     "execution_count": 21,
     "metadata": {},
     "output_type": "execute_result"
    }
   ],
   "source": [
    "c[5]='five'\n",
    "c[6]='six'\n",
    "c"
   ]
  },
  {
   "cell_type": "markdown",
   "id": "5dbbfa1f",
   "metadata": {},
   "source": [
    "# looping \n"
   ]
  },
  {
   "cell_type": "code",
   "execution_count": 25,
   "id": "b05445e0",
   "metadata": {},
   "outputs": [
    {
     "name": "stdout",
     "output_type": "stream",
     "text": [
      "(1, 'apple')\n",
      "(2, 'car')\n",
      "(3, 'bike')\n",
      "(4, 'string')\n",
      "(5, 'five')\n",
      "(6, 'six')\n"
     ]
    }
   ],
   "source": [
    "for i in c.items():\n",
    "    print(i)"
   ]
  },
  {
   "cell_type": "markdown",
   "id": "c86579d7",
   "metadata": {},
   "source": [
    "# Nested dictionaries\n",
    "- a dict in another dict=nested dcit"
   ]
  },
  {
   "cell_type": "code",
   "execution_count": 36,
   "id": "7a3820fd",
   "metadata": {},
   "outputs": [
    {
     "data": {
      "text/plain": [
       "{'languages': ['telugu', 'hindi', 'english'],\n",
       " 'prolang': {1: 'python', 2: 'c', 3: 'c++'}}"
      ]
     },
     "execution_count": 36,
     "metadata": {},
     "output_type": "execute_result"
    }
   ],
   "source": [
    "d={'languages':['telugu','hindi','english'],'prolang':{1:'python',2:'c',3:'c++' }  }\n",
    "d"
   ]
  },
  {
   "cell_type": "code",
   "execution_count": 30,
   "id": "78c35720",
   "metadata": {},
   "outputs": [
    {
     "data": {
      "text/plain": [
       "dict"
      ]
     },
     "execution_count": 30,
     "metadata": {},
     "output_type": "execute_result"
    }
   ],
   "source": [
    "type(d)"
   ]
  },
  {
   "cell_type": "code",
   "execution_count": 37,
   "id": "ccb9625e",
   "metadata": {},
   "outputs": [
    {
     "data": {
      "text/plain": [
       "{'languages': ['tamil', 'hindi', 'english'],\n",
       " 'prolang': {1: 'python', 2: 'c', 3: 'c++'}}"
      ]
     },
     "execution_count": 37,
     "metadata": {},
     "output_type": "execute_result"
    }
   ],
   "source": [
    "d['languages']0[]='tamil'\n",
    "d"
   ]
  },
  {
   "cell_type": "code",
   "execution_count": 43,
   "id": "02f9f58f",
   "metadata": {},
   "outputs": [
    {
     "data": {
      "text/plain": [
       "{'languages': ['tamil', 'hindi', 'english'],\n",
       " 'prolang': {1: 'python', 2: 'java', 3: 'c++'}}"
      ]
     },
     "execution_count": 43,
     "metadata": {},
     "output_type": "execute_result"
    }
   ],
   "source": [
    "d['prolang'][2]='java'\n",
    "d"
   ]
  },
  {
   "cell_type": "markdown",
   "id": "d0c06711",
   "metadata": {},
   "source": [
    "# methods "
   ]
  },
  {
   "cell_type": "code",
   "execution_count": 44,
   "id": "88943d5e",
   "metadata": {},
   "outputs": [],
   "source": [
    "#get,keys,valus,items"
   ]
  },
  {
   "cell_type": "code",
   "execution_count": 45,
   "id": "cf2e158d",
   "metadata": {},
   "outputs": [],
   "source": [
    "d.clear()"
   ]
  },
  {
   "cell_type": "code",
   "execution_count": 47,
   "id": "f9ff1170",
   "metadata": {},
   "outputs": [
    {
     "data": {
      "text/plain": [
       "{'languages': ['telugu', 'hindi', 'english'],\n",
       " 'prolang': {1: 'python', 2: 'c', 3: 'c++'}}"
      ]
     },
     "execution_count": 47,
     "metadata": {},
     "output_type": "execute_result"
    }
   ],
   "source": [
    "d={'languages':['telugu','hindi','english'],'prolang':{1:'python',2:'c',3:'c++' }  }\n",
    "d"
   ]
  },
  {
   "cell_type": "code",
   "execution_count": 49,
   "id": "598fb064",
   "metadata": {},
   "outputs": [
    {
     "data": {
      "text/plain": [
       "{'languages': ['telugu', 'hindi', 'english'],\n",
       " 'prolang': {1: 'python', 2: 'c', 3: 'c++'}}"
      ]
     },
     "execution_count": 49,
     "metadata": {},
     "output_type": "execute_result"
    }
   ],
   "source": [
    "e=d.copy()\n",
    "e"
   ]
  },
  {
   "cell_type": "code",
   "execution_count": 52,
   "id": "59830d33",
   "metadata": {},
   "outputs": [
    {
     "data": {
      "text/plain": [
       "['telugu', 'hindi', 'english']"
      ]
     },
     "execution_count": 52,
     "metadata": {},
     "output_type": "execute_result"
    }
   ],
   "source": [
    "e.pop('languages')"
   ]
  },
  {
   "cell_type": "code",
   "execution_count": 53,
   "id": "a93d7704",
   "metadata": {},
   "outputs": [
    {
     "data": {
      "text/plain": [
       "{'prolang': {1: 'python', 2: 'c', 3: 'c++'}}"
      ]
     },
     "execution_count": 53,
     "metadata": {},
     "output_type": "execute_result"
    }
   ],
   "source": [
    "e"
   ]
  },
  {
   "cell_type": "code",
   "execution_count": 54,
   "id": "e3c9793c",
   "metadata": {},
   "outputs": [
    {
     "data": {
      "text/plain": [
       "('prolang', {1: 'python', 2: 'c', 3: 'c++'})"
      ]
     },
     "execution_count": 54,
     "metadata": {},
     "output_type": "execute_result"
    }
   ],
   "source": [
    "e.popitem()"
   ]
  },
  {
   "cell_type": "code",
   "execution_count": 55,
   "id": "4ef970d5",
   "metadata": {},
   "outputs": [
    {
     "data": {
      "text/plain": [
       "{}"
      ]
     },
     "execution_count": 55,
     "metadata": {},
     "output_type": "execute_result"
    }
   ],
   "source": [
    "e"
   ]
  },
  {
   "cell_type": "code",
   "execution_count": null,
   "id": "11868470",
   "metadata": {},
   "outputs": [],
   "source": [
    "# pop=> key\n",
    "# popitem( ) =random"
   ]
  }
 ],
 "metadata": {
  "kernelspec": {
   "display_name": "Python 3 (ipykernel)",
   "language": "python",
   "name": "python3"
  },
  "language_info": {
   "codemirror_mode": {
    "name": "ipython",
    "version": 3
   },
   "file_extension": ".py",
   "mimetype": "text/x-python",
   "name": "python",
   "nbconvert_exporter": "python",
   "pygments_lexer": "ipython3",
   "version": "3.9.13"
  }
 },
 "nbformat": 4,
 "nbformat_minor": 5
}
