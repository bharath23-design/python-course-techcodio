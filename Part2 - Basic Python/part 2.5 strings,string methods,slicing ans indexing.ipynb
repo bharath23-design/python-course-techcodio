{
 "cells": [
  {
   "cell_type": "markdown",
   "id": "ee02bfd2",
   "metadata": {},
   "source": [
    "# Agenda\n",
    "## what are strings\n",
    "## assigning values to string and Concatenation\n",
    "## indexing and slicing\n",
    "## string methods\n",
    "## logical questions"
   ]
  },
  {
   "cell_type": "markdown",
   "id": "0133a9e0",
   "metadata": {},
   "source": [
    "## What are strings?\n",
    "Strings in python are surrounded by either single quotation marks, or double quotation marks.\n",
    "\n",
    "'hello' is the same as \"hello\".\n",
    "\n",
    "You can display a string literal with the print() function:"
   ]
  },
  {
   "cell_type": "code",
   "execution_count": 5,
   "id": "4eef1506",
   "metadata": {},
   "outputs": [
    {
     "name": "stdout",
     "output_type": "stream",
     "text": [
      "hello\n"
     ]
    }
   ],
   "source": [
    "print('hello')"
   ]
  },
  {
   "cell_type": "code",
   "execution_count": 6,
   "id": "ad16dc9b",
   "metadata": {},
   "outputs": [
    {
     "name": "stdout",
     "output_type": "stream",
     "text": [
      " hello\n"
     ]
    }
   ],
   "source": [
    "print(\" hello\")"
   ]
  },
  {
   "cell_type": "code",
   "execution_count": null,
   "id": "eb789814",
   "metadata": {},
   "outputs": [],
   "source": [
    "a='hello'\n"
   ]
  },
  {
   "cell_type": "markdown",
   "id": "064915a9",
   "metadata": {},
   "source": [
    "## properties of strings\n",
    "- strings are immutable\n",
    "- inside the string we will call each characters are called as an element\n",
    "- inside the string each elemen will have their own index value\n"
   ]
  },
  {
   "cell_type": "markdown",
   "id": "2b136839",
   "metadata": {},
   "source": [
    "Assign String to a Variable\n",
    "\n",
    "Assigning a string to a variable is done with the variable name followed by an equal sign and the string:"
   ]
  },
  {
   "cell_type": "code",
   "execution_count": 10,
   "id": "00b99ef1",
   "metadata": {},
   "outputs": [
    {
     "name": "stdout",
     "output_type": "stream",
     "text": [
      "techcodio\n"
     ]
    }
   ],
   "source": [
    "var='techcodio' # single line string\n",
    "print(var)"
   ]
  },
  {
   "cell_type": "code",
   "execution_count": 11,
   "id": "1548d0ec",
   "metadata": {},
   "outputs": [
    {
     "data": {
      "text/plain": [
       "str"
      ]
     },
     "execution_count": 11,
     "metadata": {},
     "output_type": "execute_result"
    }
   ],
   "source": [
    "type(var)"
   ]
  },
  {
   "cell_type": "code",
   "execution_count": null,
   "id": "fc8913ab",
   "metadata": {},
   "outputs": [],
   "source": []
  },
  {
   "cell_type": "markdown",
   "id": "52eb5bb0",
   "metadata": {},
   "source": [
    "Multiline Strings\n",
    "\n",
    "You can assign a multiline string to a variable by using three quotes:"
   ]
  },
  {
   "cell_type": "code",
   "execution_count": 14,
   "id": "b052d2c8",
   "metadata": {},
   "outputs": [
    {
     "name": "stdout",
     "output_type": "stream",
     "text": [
      "Lorem ipsum dolor sit amet,\n",
      "consectetur adipiscing elit,\n",
      "sed do eius od tempor incididunt\n",
      "ut labore et dolore magna aliqua.\n"
     ]
    }
   ],
   "source": [
    "a = \"\"\"Lorem ipsum dolor sit amet,\n",
    "consectetur adipiscing elit,\n",
    "sed do eius od tempor incididunt\n",
    "ut labore et dolore magna aliqua.\"\"\" # mutiline string\n",
    "print(a) "
   ]
  },
  {
   "cell_type": "markdown",
   "id": "d450084a",
   "metadata": {},
   "source": [
    "## indexing \n",
    "Indexing allows you to access individual characters in a string directly by using a numeric value\n",
    "- positive=0,1,2,3,4,5...........\n",
    "- negative=-1,-2,-3..................\n"
   ]
  },
  {
   "cell_type": "code",
   "execution_count": 15,
   "id": "01d3d39d",
   "metadata": {},
   "outputs": [
    {
     "data": {
      "text/plain": [
       "'t'"
      ]
     },
     "execution_count": 15,
     "metadata": {},
     "output_type": "execute_result"
    }
   ],
   "source": [
    "b='techcodio'\n",
    "b[0]"
   ]
  },
  {
   "cell_type": "code",
   "execution_count": 16,
   "id": "9cd0eed2",
   "metadata": {},
   "outputs": [
    {
     "data": {
      "text/plain": [
       "'e'"
      ]
     },
     "execution_count": 16,
     "metadata": {},
     "output_type": "execute_result"
    }
   ],
   "source": [
    "# postive starts from left to right\n",
    "b[1]"
   ]
  },
  {
   "cell_type": "code",
   "execution_count": 17,
   "id": "c96f93ce",
   "metadata": {},
   "outputs": [
    {
     "data": {
      "text/plain": [
       "'c'"
      ]
     },
     "execution_count": 17,
     "metadata": {},
     "output_type": "execute_result"
    }
   ],
   "source": [
    "b[4]"
   ]
  },
  {
   "cell_type": "code",
   "execution_count": null,
   "id": "698aeb4c",
   "metadata": {},
   "outputs": [],
   "source": [
    "# negative starts from right to left"
   ]
  },
  {
   "cell_type": "code",
   "execution_count": 18,
   "id": "f5adb051",
   "metadata": {},
   "outputs": [
    {
     "data": {
      "text/plain": [
       "'o'"
      ]
     },
     "execution_count": 18,
     "metadata": {},
     "output_type": "execute_result"
    }
   ],
   "source": [
    "b[-1]"
   ]
  },
  {
   "cell_type": "code",
   "execution_count": 19,
   "id": "a3652474",
   "metadata": {},
   "outputs": [
    {
     "data": {
      "text/plain": [
       "'i'"
      ]
     },
     "execution_count": 19,
     "metadata": {},
     "output_type": "execute_result"
    }
   ],
   "source": [
    "b[-2]"
   ]
  },
  {
   "cell_type": "code",
   "execution_count": 22,
   "id": "e124c93e",
   "metadata": {},
   "outputs": [
    {
     "data": {
      "text/plain": [
       "'c'"
      ]
     },
     "execution_count": 22,
     "metadata": {},
     "output_type": "execute_result"
    }
   ],
   "source": [
    "b[-5]"
   ]
  },
  {
   "cell_type": "markdown",
   "id": "3f6f25ea",
   "metadata": {},
   "source": [
    "## slicing\n",
    "You can return a range of characters by using the slice syntax.\n",
    "Specify the start index and the end index, separated by a colon, to return a part of the string\n",
    "- postivie=0,1,2,3,4\n",
    "- negative =-1,-2,-3,-4"
   ]
  },
  {
   "cell_type": "code",
   "execution_count": null,
   "id": "242c02f7",
   "metadata": {},
   "outputs": [],
   "source": [
    "# synatx [start: end]"
   ]
  },
  {
   "cell_type": "code",
   "execution_count": null,
   "id": "262b3da3",
   "metadata": {},
   "outputs": [],
   "source": [
    "#[start:end]"
   ]
  },
  {
   "cell_type": "code",
   "execution_count": 9,
   "id": "478d16e4",
   "metadata": {},
   "outputs": [
    {
     "data": {
      "text/plain": [
       "'python course'"
      ]
     },
     "execution_count": 9,
     "metadata": {},
     "output_type": "execute_result"
    }
   ],
   "source": [
    "name='python course'\n",
    "name[0:]"
   ]
  },
  {
   "cell_type": "code",
   "execution_count": 19,
   "id": "130c8b16",
   "metadata": {},
   "outputs": [
    {
     "data": {
      "text/plain": [
       "'course'"
      ]
     },
     "execution_count": 19,
     "metadata": {},
     "output_type": "execute_result"
    }
   ],
   "source": [
    "name[-6:]"
   ]
  },
  {
   "cell_type": "markdown",
   "id": "d2c852bb",
   "metadata": {},
   "source": [
    "## String Concatenation\n",
    "\n",
    "To concatenate, or combine, two strings you can use the + operator."
   ]
  },
  {
   "cell_type": "code",
   "execution_count": 25,
   "id": "bb91a08a",
   "metadata": {},
   "outputs": [
    {
     "name": "stdout",
     "output_type": "stream",
     "text": [
      "python course\n"
     ]
    }
   ],
   "source": [
    "a='python '\n",
    "b='course'\n",
    "c=a+b\n",
    "print(c)"
   ]
  },
  {
   "cell_type": "markdown",
   "id": "031d3a39",
   "metadata": {},
   "source": [
    "# String methods"
   ]
  },
  {
   "cell_type": "code",
   "execution_count": 26,
   "id": "d4cdd963",
   "metadata": {},
   "outputs": [
    {
     "data": {
      "text/plain": [
       "7"
      ]
     },
     "execution_count": 26,
     "metadata": {},
     "output_type": "execute_result"
    }
   ],
   "source": [
    "# 1 .len() for calculating length of string\n",
    "var='program'\n",
    "len(var)"
   ]
  },
  {
   "cell_type": "code",
   "execution_count": 30,
   "id": "0289fff3",
   "metadata": {},
   "outputs": [
    {
     "data": {
      "text/plain": [
       "'python@&*& course'"
      ]
     },
     "execution_count": 30,
     "metadata": {},
     "output_type": "execute_result"
    }
   ],
   "source": [
    "# 2. lower() it converts all upperand lower case to lower\n",
    "a='pytHON@&*& COUrse'\n",
    "a.lower()"
   ]
  },
  {
   "cell_type": "code",
   "execution_count": 31,
   "id": "4803e2b1",
   "metadata": {},
   "outputs": [
    {
     "data": {
      "text/plain": [
       "'PYTHON@&*& COURSE'"
      ]
     },
     "execution_count": 31,
     "metadata": {},
     "output_type": "execute_result"
    }
   ],
   "source": [
    "# 3.upper \n",
    "a.upper()\n"
   ]
  },
  {
   "cell_type": "code",
   "execution_count": 32,
   "id": "5eebc48a",
   "metadata": {},
   "outputs": [
    {
     "data": {
      "text/plain": [
       "['pytHON@&*&', 'COUrse']"
      ]
     },
     "execution_count": 32,
     "metadata": {},
     "output_type": "execute_result"
    }
   ],
   "source": [
    "# 4. split\n",
    "a.split()\n",
    "\n",
    "\n"
   ]
  },
  {
   "cell_type": "code",
   "execution_count": 45,
   "id": "40c9540a",
   "metadata": {},
   "outputs": [
    {
     "data": {
      "text/plain": [
       "False"
      ]
     },
     "execution_count": 45,
     "metadata": {},
     "output_type": "execute_result"
    }
   ],
   "source": [
    "# 5. isupper() it is used check iff a string is upper case ornot\n",
    "b='python'\n",
    "b.isupper()"
   ]
  },
  {
   "cell_type": "code",
   "execution_count": 47,
   "id": "ad1d9664",
   "metadata": {},
   "outputs": [
    {
     "data": {
      "text/plain": [
       "True"
      ]
     },
     "execution_count": 47,
     "metadata": {},
     "output_type": "execute_result"
    }
   ],
   "source": [
    "# 6. islower() it is used to check lowercase ornot\n",
    "c='python'\n",
    "c.islower()"
   ]
  },
  {
   "cell_type": "code",
   "execution_count": 50,
   "id": "7e1d3e48",
   "metadata": {},
   "outputs": [
    {
     "data": {
      "text/plain": [
       "'1python'"
      ]
     },
     "execution_count": 50,
     "metadata": {},
     "output_type": "execute_result"
    }
   ],
   "source": [
    "# 7. captialize \n",
    "d='1pYTHON'\n",
    "d.capitalize()"
   ]
  },
  {
   "cell_type": "code",
   "execution_count": 51,
   "id": "7c0d6f63",
   "metadata": {},
   "outputs": [
    {
     "data": {
      "text/plain": [
       "'Python course'"
      ]
     },
     "execution_count": 51,
     "metadata": {},
     "output_type": "execute_result"
    }
   ],
   "source": [
    "e='python course'\n",
    "e.capitalize()"
   ]
  },
  {
   "cell_type": "code",
   "execution_count": 52,
   "id": "b1d3a53f",
   "metadata": {},
   "outputs": [
    {
     "data": {
      "text/plain": [
       "'1Python'"
      ]
     },
     "execution_count": 52,
     "metadata": {},
     "output_type": "execute_result"
    }
   ],
   "source": [
    "# 8 . title\n",
    "d='1pYTHON'\n",
    "d.title()"
   ]
  },
  {
   "cell_type": "code",
   "execution_count": 55,
   "id": "5dba3463",
   "metadata": {},
   "outputs": [
    {
     "data": {
      "text/plain": [
       "'Python Course'"
      ]
     },
     "execution_count": 55,
     "metadata": {},
     "output_type": "execute_result"
    }
   ],
   "source": [
    "e='python course'\n",
    "e.title()"
   ]
  },
  {
   "cell_type": "code",
   "execution_count": 62,
   "id": "ac011e0a",
   "metadata": {},
   "outputs": [
    {
     "data": {
      "text/plain": [
       "3"
      ]
     },
     "execution_count": 62,
     "metadata": {},
     "output_type": "execute_result"
    }
   ],
   "source": [
    "# 9 index()\n",
    "f='code'\n",
    "f.index('e')"
   ]
  },
  {
   "cell_type": "code",
   "execution_count": 64,
   "id": "64946837",
   "metadata": {},
   "outputs": [
    {
     "data": {
      "text/plain": [
       "False"
      ]
     },
     "execution_count": 64,
     "metadata": {},
     "output_type": "execute_result"
    }
   ],
   "source": [
    "# 10. starswith\n",
    "f.startswith('e')"
   ]
  },
  {
   "cell_type": "code",
   "execution_count": 66,
   "id": "4f226f79",
   "metadata": {},
   "outputs": [
    {
     "data": {
      "text/plain": [
       "False"
      ]
     },
     "execution_count": 66,
     "metadata": {},
     "output_type": "execute_result"
    }
   ],
   "source": [
    "# 11.endswith()\n",
    "f.endswith('c')"
   ]
  },
  {
   "cell_type": "code",
   "execution_count": 68,
   "id": "7c77bbd5",
   "metadata": {},
   "outputs": [
    {
     "data": {
      "text/plain": [
       "False"
      ]
     },
     "execution_count": 68,
     "metadata": {},
     "output_type": "execute_result"
    }
   ],
   "source": [
    "# 12. isdigit()\n",
    "g='1321312eer3'\n",
    "g.isdigit()"
   ]
  },
  {
   "cell_type": "code",
   "execution_count": 70,
   "id": "c227228a",
   "metadata": {},
   "outputs": [
    {
     "name": "stdout",
     "output_type": "stream",
     "text": [
      " delhi is the capital of india \n"
     ]
    }
   ],
   "source": [
    "# f' string' => it is formating the string\n",
    "a=' delhi'\n",
    "b='india'\n",
    "print(f'{a} is the capital of {b} ')\n"
   ]
  },
  {
   "cell_type": "markdown",
   "id": "e205449a",
   "metadata": {},
   "source": [
    "# Logical questions"
   ]
  },
  {
   "cell_type": "markdown",
   "id": "a5f673a0",
   "metadata": {},
   "source": [
    "## a='Code '\n",
    "## print(a.startswith('c'))\n"
   ]
  },
  {
   "cell_type": "code",
   "execution_count": 73,
   "id": "6f946fff",
   "metadata": {},
   "outputs": [
    {
     "data": {
      "text/plain": [
       "True"
      ]
     },
     "execution_count": 73,
     "metadata": {},
     "output_type": "execute_result"
    }
   ],
   "source": [
    "a='Code'\n",
    "a.startswith('C')"
   ]
  },
  {
   "cell_type": "code",
   "execution_count": null,
   "id": "344e3a18",
   "metadata": {},
   "outputs": [],
   "source": [
    "https://csiplearninghub.com/practice-questions-of-string-in-python/"
   ]
  },
  {
   "cell_type": "code",
   "execution_count": null,
   "id": "b2663cbc",
   "metadata": {},
   "outputs": [],
   "source": []
  }
 ],
 "metadata": {
  "kernelspec": {
   "display_name": "Python 3 (ipykernel)",
   "language": "python",
   "name": "python3"
  },
  "language_info": {
   "codemirror_mode": {
    "name": "ipython",
    "version": 3
   },
   "file_extension": ".py",
   "mimetype": "text/x-python",
   "name": "python",
   "nbconvert_exporter": "python",
   "pygments_lexer": "ipython3",
   "version": "3.11.3"
  }
 },
 "nbformat": 4,
 "nbformat_minor": 5
}
