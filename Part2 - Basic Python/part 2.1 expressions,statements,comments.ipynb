{
 "cells": [
  {
   "cell_type": "markdown",
   "id": "9c8cca97",
   "metadata": {},
   "source": [
    "# Agenda\n",
    "- Expressions and statements\n",
    "- comments\n",
    "- escaping characters\n",
    "- Logical questions"
   ]
  },
  {
   "cell_type": "markdown",
   "id": "65b27c39",
   "metadata": {},
   "source": [
    "## Expressions\n",
    "An Expression is a sequence or combination of values, variables, operators and function calls that always produces or returns a result value.\n",
    "## Statements \n",
    "A Statement is the smallest executable unit of code that has an effect, like creating a variable or displaying a value.\n",
    "- statement cannot return any value\n",
    "- it cannot print any value"
   ]
  },
  {
   "cell_type": "code",
   "execution_count": null,
   "id": "5750d9ce",
   "metadata": {},
   "outputs": [],
   "source": [
    "a=3+5\n",
    "# a is variable name\n",
    "# = is asssignment operator\n",
    "# 3 and 5 are numbers\n",
    "# + is operator"
   ]
  },
  {
   "cell_type": "code",
   "execution_count": 2,
   "id": "e4b0cc0d",
   "metadata": {},
   "outputs": [],
   "source": [
    " #+5"
   ]
  },
  {
   "cell_type": "code",
   "execution_count": 1,
   "id": "eebf0949",
   "metadata": {},
   "outputs": [
    {
     "data": {
      "text/plain": [
       "8"
      ]
     },
     "execution_count": 1,
     "metadata": {},
     "output_type": "execute_result"
    }
   ],
   "source": [
    "3 + 5"
   ]
  },
  {
   "cell_type": "code",
   "execution_count": 5,
   "id": "fe890f8b",
   "metadata": {},
   "outputs": [],
   "source": [
    "a= 3+ 5\n",
    "# addition operation"
   ]
  },
  {
   "cell_type": "code",
   "execution_count": 4,
   "id": "2ae99aa1",
   "metadata": {},
   "outputs": [
    {
     "name": "stdout",
     "output_type": "stream",
     "text": [
      "8\n"
     ]
    }
   ],
   "source": [
    "print(a)"
   ]
  },
  {
   "cell_type": "code",
   "execution_count": null,
   "id": "389e7b7c",
   "metadata": {},
   "outputs": [],
   "source": []
  },
  {
   "cell_type": "markdown",
   "id": "bb154f29",
   "metadata": {},
   "source": [
    "## Rule 1\n",
    "performing mathematical operations and any operations in single line of code"
   ]
  },
  {
   "cell_type": "code",
   "execution_count": 1,
   "id": "7a892248",
   "metadata": {},
   "outputs": [
    {
     "data": {
      "text/plain": [
       "12"
      ]
     },
     "execution_count": 1,
     "metadata": {},
     "output_type": "execute_result"
    }
   ],
   "source": [
    "5 + 7"
   ]
  },
  {
   "cell_type": "code",
   "execution_count": null,
   "id": "d435385f",
   "metadata": {},
   "outputs": [],
   "source": []
  },
  {
   "cell_type": "markdown",
   "id": "b2b2c6a9",
   "metadata": {},
   "source": [
    "## Rule 2\n",
    "executing multiple functions in single line of code"
   ]
  },
  {
   "cell_type": "code",
   "execution_count": 15,
   "id": "103adacf",
   "metadata": {},
   "outputs": [
    {
     "name": "stdout",
     "output_type": "stream",
     "text": [
      "hello world\n",
      "hello world1\n"
     ]
    },
    {
     "data": {
      "text/plain": [
       "11"
      ]
     },
     "execution_count": 15,
     "metadata": {},
     "output_type": "execute_result"
    }
   ],
   "source": [
    "print('hello world'); print('hello world1');len('hello wrold')"
   ]
  },
  {
   "cell_type": "code",
   "execution_count": null,
   "id": "90ef91b7",
   "metadata": {},
   "outputs": [],
   "source": []
  },
  {
   "cell_type": "markdown",
   "id": "46ec405f",
   "metadata": {},
   "source": [
    "## Rule 3\n",
    "perform mathematical operation in multiple line of code"
   ]
  },
  {
   "cell_type": "code",
   "execution_count": 17,
   "id": "19b8a927",
   "metadata": {},
   "outputs": [
    {
     "data": {
      "text/plain": [
       "5"
      ]
     },
     "execution_count": 17,
     "metadata": {},
     "output_type": "execute_result"
    }
   ],
   "source": [
    "2\\\n",
    "+\\\n",
    "3"
   ]
  },
  {
   "cell_type": "code",
   "execution_count": null,
   "id": "527f06d9",
   "metadata": {},
   "outputs": [],
   "source": []
  },
  {
   "cell_type": "markdown",
   "id": "c49c1e6f",
   "metadata": {},
   "source": [
    "## comments\n",
    "Comments in Python are the lines in the code that are ignored by the interpreter during the execution of the program. Comments enhance the readability of the code and help the programmers to understand the code very carefully. \n",
    "\n",
    "There are three types of comments in Python:\n",
    "\n",
    "    Single line Comments\n",
    "    Multiline Comments\n",
    "  "
   ]
  },
  {
   "cell_type": "markdown",
   "id": "14ad8c8a",
   "metadata": {},
   "source": [
    "## single line"
   ]
  },
  {
   "cell_type": "code",
   "execution_count": 20,
   "id": "a79e508f",
   "metadata": {},
   "outputs": [],
   "source": [
    "a=3 #  a is variable "
   ]
  },
  {
   "cell_type": "markdown",
   "id": "2d3e2400",
   "metadata": {},
   "source": [
    "## multiline"
   ]
  },
  {
   "cell_type": "code",
   "execution_count": null,
   "id": "ab5782bb",
   "metadata": {},
   "outputs": [],
   "source": [
    "# a is a variable\n",
    "# 3 is value\n",
    "# = is assignment operator"
   ]
  },
  {
   "cell_type": "markdown",
   "id": "29e683e6",
   "metadata": {},
   "source": [
    "## Escaping charcters\n",
    "###  3 major escpe characters \\n ,\\t,\\b"
   ]
  },
  {
   "cell_type": "markdown",
   "id": "4eedfda2",
   "metadata": {},
   "source": [
    "## \\n for  creating new line"
   ]
  },
  {
   "cell_type": "code",
   "execution_count": 8,
   "id": "7d943090",
   "metadata": {},
   "outputs": [],
   "source": [
    "# \\n is for creating new lines in the code"
   ]
  },
  {
   "cell_type": "code",
   "execution_count": 10,
   "id": "4ecb78cf",
   "metadata": {},
   "outputs": [
    {
     "name": "stdout",
     "output_type": "stream",
     "text": [
      "hello \n",
      " world\n"
     ]
    }
   ],
   "source": [
    "print('hello \\n world')"
   ]
  },
  {
   "cell_type": "code",
   "execution_count": 11,
   "id": "5455a44d",
   "metadata": {},
   "outputs": [
    {
     "name": "stdout",
     "output_type": "stream",
     "text": [
      "h\n",
      "e\n",
      "\n",
      "l\n",
      "l\n",
      "o\n"
     ]
    }
   ],
   "source": [
    "print('h\\ne\\n\\nl\\nl\\no')"
   ]
  },
  {
   "cell_type": "code",
   "execution_count": null,
   "id": "d0f8f5d0",
   "metadata": {},
   "outputs": [],
   "source": []
  },
  {
   "cell_type": "markdown",
   "id": "08b9edad",
   "metadata": {},
   "source": [
    "## \\t for tab space\n"
   ]
  },
  {
   "cell_type": "code",
   "execution_count": 12,
   "id": "b07acd03",
   "metadata": {},
   "outputs": [],
   "source": [
    "# \\t it is creating spaces in between the characters"
   ]
  },
  {
   "cell_type": "code",
   "execution_count": 13,
   "id": "d0bb6ba2",
   "metadata": {},
   "outputs": [
    {
     "name": "stdout",
     "output_type": "stream",
     "text": [
      "hello\tworld\n"
     ]
    }
   ],
   "source": [
    "print('hello\\tworld')"
   ]
  },
  {
   "cell_type": "code",
   "execution_count": 14,
   "id": "03d2db5f",
   "metadata": {},
   "outputs": [
    {
     "name": "stdout",
     "output_type": "stream",
     "text": [
      "h\te\tl\tl\t\to\n"
     ]
    }
   ],
   "source": [
    "print('h\\te\\tl\\tl\\t\\to')"
   ]
  },
  {
   "cell_type": "markdown",
   "id": "3a8c8003",
   "metadata": {},
   "source": [
    "## \\b for the back space or removes the spaces"
   ]
  },
  {
   "cell_type": "code",
   "execution_count": 29,
   "id": "289999dc",
   "metadata": {},
   "outputs": [],
   "source": [
    "# it is used to remove the spaces "
   ]
  },
  {
   "cell_type": "code",
   "execution_count": 32,
   "id": "5d462617",
   "metadata": {},
   "outputs": [
    {
     "name": "stdout",
     "output_type": "stream",
     "text": [
      "hello \bworld\n"
     ]
    }
   ],
   "source": [
    "print('hello \\bworld')"
   ]
  },
  {
   "cell_type": "code",
   "execution_count": 34,
   "id": "5949a272",
   "metadata": {},
   "outputs": [
    {
     "name": "stdout",
     "output_type": "stream",
     "text": [
      "hello \bworld\n"
     ]
    }
   ],
   "source": [
    "print('hello \\bworld')"
   ]
  },
  {
   "cell_type": "code",
   "execution_count": null,
   "id": "17d26262",
   "metadata": {},
   "outputs": [],
   "source": []
  },
  {
   "cell_type": "markdown",
   "id": "13e33621",
   "metadata": {},
   "source": [
    "## Logical question"
   ]
  },
  {
   "cell_type": "markdown",
   "id": "406ab86b",
   "metadata": {},
   "source": [
    "## what is the output of the code \n",
    "## 3\\\n",
    "## *\\\n",
    "## \\3\n",
    "\n",
    "## a. 9\n",
    "## b .27\n",
    "## c. 3\n",
    "## d.error"
   ]
  },
  {
   "cell_type": "code",
   "execution_count": 41,
   "id": "f0cb5fae",
   "metadata": {},
   "outputs": [
    {
     "ename": "SyntaxError",
     "evalue": "unexpected character after line continuation character (608093849.py, line 3)",
     "output_type": "error",
     "traceback": [
      "\u001b[1;36m  Cell \u001b[1;32mIn[41], line 3\u001b[1;36m\u001b[0m\n\u001b[1;33m    \\3\u001b[0m\n\u001b[1;37m      \n^\u001b[0m\n\u001b[1;31mSyntaxError\u001b[0m\u001b[1;31m:\u001b[0m unexpected character after line continuation character\n"
     ]
    }
   ],
   "source": [
    "3\\\n",
    "*\\\n",
    "\\3"
   ]
  },
  {
   "cell_type": "code",
   "execution_count": 42,
   "id": "8b1faabe",
   "metadata": {},
   "outputs": [],
   "source": [
    "# d error"
   ]
  },
  {
   "cell_type": "code",
   "execution_count": null,
   "id": "3fd5c227",
   "metadata": {},
   "outputs": [],
   "source": []
  }
 ],
 "metadata": {
  "kernelspec": {
   "display_name": "Python 3 (ipykernel)",
   "language": "python",
   "name": "python3"
  },
  "language_info": {
   "codemirror_mode": {
    "name": "ipython",
    "version": 3
   },
   "file_extension": ".py",
   "mimetype": "text/x-python",
   "name": "python",
   "nbconvert_exporter": "python",
   "pygments_lexer": "ipython3",
   "version": "3.11.3"
  }
 },
 "nbformat": 4,
 "nbformat_minor": 5
}
