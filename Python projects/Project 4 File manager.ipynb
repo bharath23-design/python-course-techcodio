{
 "cells": [
  {
   "cell_type": "markdown",
   "id": "e9f9b91b",
   "metadata": {},
   "source": [
    "# File Manager - Project 4\n",
    "![image](https://techvidvan.com/tutorials/wp-content/uploads/sites/2/2020/09/file-manager-in-python.jpg)"
   ]
  },
  {
   "cell_type": "markdown",
   "id": "ebbc8d1d",
   "metadata": {},
   "source": [
    "## Concepts involved \n",
    "- part 5\n",
    "- os module\n",
    "- shutil module\n",
    "- for loop\n",
    "- if else\n",
    "- input function"
   ]
  },
  {
   "cell_type": "markdown",
   "id": "bd045627",
   "metadata": {},
   "source": [
    "## Getting the path"
   ]
  },
  {
   "cell_type": "code",
   "execution_count": 3,
   "id": "f8eb39b0",
   "metadata": {},
   "outputs": [
    {
     "name": "stdout",
     "output_type": "stream",
     "text": [
      "enter your pathC:\\Users\\adepu bharath kumar\\Desktop\\yt\\intro note\\Python course\\projects\\files\n"
     ]
    }
   ],
   "source": [
    "import os\n",
    "path=input('enter your path')"
   ]
  },
  {
   "cell_type": "markdown",
   "id": "f6c42339",
   "metadata": {},
   "source": [
    "## Checking the directories "
   ]
  },
  {
   "cell_type": "code",
   "execution_count": 4,
   "id": "dfb2b271",
   "metadata": {},
   "outputs": [
    {
     "name": "stdout",
     "output_type": "stream",
     "text": [
      "adv.png\n",
      "app.png\n",
      "arithmetic.png\n",
      "dictionary.json\n",
      "strings.mp4\n",
      "what is variable.mp4\n"
     ]
    }
   ],
   "source": [
    "files=os.listdir(path)\n",
    "for i in files:\n",
    "    print(i)"
   ]
  },
  {
   "cell_type": "markdown",
   "id": "3bf6e8cf",
   "metadata": {},
   "source": [
    "## Splitting the file name and extension"
   ]
  },
  {
   "cell_type": "code",
   "execution_count": 6,
   "id": "ae115109",
   "metadata": {},
   "outputs": [
    {
     "name": "stdout",
     "output_type": "stream",
     "text": [
      "adv\n",
      ".png\n",
      "app\n",
      ".png\n",
      "arithmetic\n",
      ".png\n",
      "dictionary\n",
      ".json\n",
      "strings\n",
      ".mp4\n",
      "what is variable\n",
      ".mp4\n"
     ]
    }
   ],
   "source": [
    "for i in files:\n",
    "    filename,extension=os.path.splitext(i)\n",
    "    print(filename)\n",
    "    print(extension)"
   ]
  },
  {
   "cell_type": "markdown",
   "id": "c69115de",
   "metadata": {},
   "source": [
    "# Removing the dot from the extension"
   ]
  },
  {
   "cell_type": "code",
   "execution_count": 8,
   "id": "f65020ab",
   "metadata": {},
   "outputs": [
    {
     "name": "stdout",
     "output_type": "stream",
     "text": [
      "png\n",
      "png\n",
      "png\n",
      "json\n",
      "mp4\n",
      "mp4\n"
     ]
    }
   ],
   "source": [
    "for i in files:\n",
    "    filename,extension=os.path.splitext(i)\n",
    "    extension=extension[1:] # the indexing concept\n",
    "    print(extension)"
   ]
  },
  {
   "cell_type": "markdown",
   "id": "24f474aa",
   "metadata": {},
   "source": [
    "## Creating seperate folder for every extension"
   ]
  },
  {
   "cell_type": "code",
   "execution_count": 9,
   "id": "3ca7fc10",
   "metadata": {},
   "outputs": [
    {
     "name": "stdout",
     "output_type": "stream",
     "text": [
      "C:\\Users\\adepu bharath kumar\\Desktop\\yt\\intro note\\Python course\\projects\\files//png\n",
      "C:\\Users\\adepu bharath kumar\\Desktop\\yt\\intro note\\Python course\\projects\\files//png\n",
      "C:\\Users\\adepu bharath kumar\\Desktop\\yt\\intro note\\Python course\\projects\\files//png\n",
      "C:\\Users\\adepu bharath kumar\\Desktop\\yt\\intro note\\Python course\\projects\\files//json\n",
      "C:\\Users\\adepu bharath kumar\\Desktop\\yt\\intro note\\Python course\\projects\\files//mp4\n",
      "C:\\Users\\adepu bharath kumar\\Desktop\\yt\\intro note\\Python course\\projects\\files//mp4\n"
     ]
    }
   ],
   "source": [
    "import shutil\n",
    "for i in files:\n",
    "    filename,extension=os.path.splitext(i)\n",
    "    extension=extension[1:]\n",
    "    folder_path=path + '//' + extension #vairable for creating seperate with the extension name\n",
    "    print(folder_path)"
   ]
  },
  {
   "cell_type": "code",
   "execution_count": 11,
   "id": "2ae94c0a",
   "metadata": {},
   "outputs": [],
   "source": [
    "import shutil\n",
    "for i in files:\n",
    "    filename,extension=os.path.splitext(i)\n",
    "    extension=extension[1:]\n",
    "    folder_path=path + '//' + extension #vairable for creating seperate with the extension name\n",
    "    if os.path.exists(folder_path): #checking folder names\n",
    "        shutil.move(path + '\\\\' + i ,path+'\\\\'+extension + '\\\\'+ i)\n",
    "    else:\n",
    "        os.makedirs(folder_path)\n",
    "        shutil.move(path + '\\\\' + i ,path+'\\\\'+extension + '\\\\'+ i) #png ,mp4\n",
    "        "
   ]
  },
  {
   "cell_type": "code",
   "execution_count": null,
   "id": "86fa0815",
   "metadata": {},
   "outputs": [],
   "source": []
  }
 ],
 "metadata": {
  "kernelspec": {
   "display_name": "Python 3 (ipykernel)",
   "language": "python",
   "name": "python3"
  },
  "language_info": {
   "codemirror_mode": {
    "name": "ipython",
    "version": 3
   },
   "file_extension": ".py",
   "mimetype": "text/x-python",
   "name": "python",
   "nbconvert_exporter": "python",
   "pygments_lexer": "ipython3",
   "version": "3.9.13"
  }
 },
 "nbformat": 4,
 "nbformat_minor": 5
}
