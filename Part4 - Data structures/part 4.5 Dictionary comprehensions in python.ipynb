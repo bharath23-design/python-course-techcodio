{
 "cells": [
  {
   "cell_type": "markdown",
   "id": "63406bc5",
   "metadata": {},
   "source": [
    "# Dictionary comprehensions"
   ]
  },
  {
   "cell_type": "markdown",
   "id": "6298ad2d",
   "metadata": {},
   "source": [
    "# syntax\n",
    "{key_expression: value_expression for item in iterable}\n"
   ]
  },
  {
   "cell_type": "code",
   "execution_count": 1,
   "id": "7f05bda9",
   "metadata": {},
   "outputs": [
    {
     "data": {
      "text/plain": [
       "{1: 1, 2: 4, 3: 9, 4: 16, 5: 25}"
      ]
     },
     "execution_count": 1,
     "metadata": {},
     "output_type": "execute_result"
    }
   ],
   "source": [
    "dict_comp={i : i ** 2 for i in range(1,6) }\n",
    "dict_comp"
   ]
  },
  {
   "cell_type": "code",
   "execution_count": 2,
   "id": "b3c0388d",
   "metadata": {},
   "outputs": [
    {
     "data": {
      "text/plain": [
       "dict"
      ]
     },
     "execution_count": 2,
     "metadata": {},
     "output_type": "execute_result"
    }
   ],
   "source": [
    "type(dict_comp)"
   ]
  },
  {
   "cell_type": "code",
   "execution_count": 12,
   "id": "f677e38f",
   "metadata": {},
   "outputs": [
    {
     "data": {
      "text/plain": [
       "{2: 4, 4: 16}"
      ]
     },
     "execution_count": 12,
     "metadata": {},
     "output_type": "execute_result"
    }
   ],
   "source": [
    "# if\n",
    "even_square_dict={ i : i**2 for i in range( 1,6) if i %2==0 }\n",
    "even_square_dict "
   ]
  },
  {
   "cell_type": "code",
   "execution_count": 14,
   "id": "7bbcb99d",
   "metadata": {},
   "outputs": [
    {
     "data": {
      "text/plain": [
       "{1: 'odd', 2: 4, 3: 'odd', 4: 16, 5: 'odd'}"
      ]
     },
     "execution_count": 14,
     "metadata": {},
     "output_type": "execute_result"
    }
   ],
   "source": [
    "# if and else\n",
    "even_square_dict={ i : i**2 if i %2==0 else 'odd' for i in range( 1,6) }\n",
    "even_square_dict "
   ]
  },
  {
   "cell_type": "code",
   "execution_count": 19,
   "id": "9dec72e1",
   "metadata": {},
   "outputs": [
    {
     "data": {
      "text/plain": [
       "{'Bharath': 80, 'raju': 60, 'sai': 70, 'ravi': 55, 'vamshi': 40}"
      ]
     },
     "execution_count": 19,
     "metadata": {},
     "output_type": "execute_result"
    }
   ],
   "source": [
    "stundent_records={ 'Bharath':80,'raju':60,'sai':70,'ravi':55,'vamshi':40}\n",
    "stundent_records"
   ]
  },
  {
   "cell_type": "code",
   "execution_count": 20,
   "id": "2c49ab52",
   "metadata": {},
   "outputs": [
    {
     "data": {
      "text/plain": [
       "{'Bharath': 80, 'raju': 60, 'sai': 70, 'ravi': 55, 'vamshi': 40}"
      ]
     },
     "execution_count": 20,
     "metadata": {},
     "output_type": "execute_result"
    }
   ],
   "source": [
    "sr={k:v for k,v in stundent_records.items()}\n",
    "sr"
   ]
  },
  {
   "cell_type": "code",
   "execution_count": 21,
   "id": "c6d34686",
   "metadata": {},
   "outputs": [
    {
     "data": {
      "text/plain": [
       "{'Bharath': 80, 'raju': 60, 'sai': 70, 'ravi': 55, 'vamshi': ' fail'}"
      ]
     },
     "execution_count": 21,
     "metadata": {},
     "output_type": "execute_result"
    }
   ],
   "source": [
    "sr={k:v if v > 40 else \" fail\" for k,v in stundent_records.items()}\n",
    "sr"
   ]
  },
  {
   "cell_type": "code",
   "execution_count": 23,
   "id": "7027a399",
   "metadata": {},
   "outputs": [
    {
     "data": {
      "text/plain": [
       "{'Top': 80, 'raju': 60, 'sai': 70, 'ravi': 55, 'vamshi': ' fail'}"
      ]
     },
     "execution_count": 23,
     "metadata": {},
     "output_type": "execute_result"
    }
   ],
   "source": [
    "sr={('Top' if v==max(stundent_records.values() ) else k ):v if v > 40 else \" fail\" for k,v in stundent_records.items()}\n",
    "sr\n"
   ]
  },
  {
   "cell_type": "code",
   "execution_count": null,
   "id": "c8f444ad",
   "metadata": {},
   "outputs": [],
   "source": []
  }
 ],
 "metadata": {
  "kernelspec": {
   "display_name": "Python 3 (ipykernel)",
   "language": "python",
   "name": "python3"
  },
  "language_info": {
   "codemirror_mode": {
    "name": "ipython",
    "version": 3
   },
   "file_extension": ".py",
   "mimetype": "text/x-python",
   "name": "python",
   "nbconvert_exporter": "python",
   "pygments_lexer": "ipython3",
   "version": "3.9.13"
  }
 },
 "nbformat": 4,
 "nbformat_minor": 5
}
