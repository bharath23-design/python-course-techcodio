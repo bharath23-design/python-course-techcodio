{
 "cells": [
  {
   "cell_type": "markdown",
   "id": "23ef32bb",
   "metadata": {},
   "source": [
    "# Agenda\n",
    "\n",
    "## <span style=\"color: #00BFFF;\">What is Polymorphism</span>\n",
    "\n",
    "\n",
    "## <span style=\"color: #32CD32;\">Normal Example for Understanding the Concept</span>\n",
    "\n",
    "\n",
    "## <span style=\"color: #FF4500;\">Real World Example of Polymorphism</span>\n",
    "\n",
    "\n",
    "## <span style=\"color: #8A2BE2;\">Code for Polymorphism</span>\n",
    "\n"
   ]
  },
  {
   "cell_type": "markdown",
   "id": "1e748ffe",
   "metadata": {},
   "source": [
    "\n",
    "# <span style=\"color: #00BFFF;\">What is Polymorphism</span>\n",
    "\n",
    "## poly-many\n",
    "## morphism-different forms\n",
    "The word polymorphism means having many forms. In programming, polymorphism means the same function name (but different signatures) being used for different types. The key difference is the data types and number of arguments used in function"
   ]
  },
  {
   "cell_type": "markdown",
   "id": "0fcb5dc5",
   "metadata": {},
   "source": [
    "# <span style=\"color: #32CD32;\">Normal Example for Understanding the Concept</span>"
   ]
  },
  {
   "cell_type": "code",
   "execution_count": 4,
   "id": "e0c3dbd7",
   "metadata": {},
   "outputs": [
    {
     "data": {
      "text/plain": [
       "([1, 2, 3, 4], 'techcodio')"
      ]
     },
     "execution_count": 4,
     "metadata": {},
     "output_type": "execute_result"
    }
   ],
   "source": [
    "# example 1\n",
    "#len()=> polymorphism\n",
    "a=[1,2,3,4]\n",
    "b='techcodio'\n",
    "a,b"
   ]
  },
  {
   "cell_type": "code",
   "execution_count": 2,
   "id": "835912f5",
   "metadata": {},
   "outputs": [
    {
     "data": {
      "text/plain": [
       "4"
      ]
     },
     "execution_count": 2,
     "metadata": {},
     "output_type": "execute_result"
    }
   ],
   "source": [
    "len(a)#list"
   ]
  },
  {
   "cell_type": "code",
   "execution_count": 3,
   "id": "68952d6a",
   "metadata": {},
   "outputs": [
    {
     "data": {
      "text/plain": [
       "9"
      ]
     },
     "execution_count": 3,
     "metadata": {},
     "output_type": "execute_result"
    }
   ],
   "source": [
    "len(b)#string"
   ]
  },
  {
   "cell_type": "code",
   "execution_count": 5,
   "id": "328d8d92",
   "metadata": {},
   "outputs": [],
   "source": [
    "# example 2"
   ]
  },
  {
   "cell_type": "code",
   "execution_count": 6,
   "id": "3c704af2",
   "metadata": {},
   "outputs": [],
   "source": [
    "# +=> symbol (has many forms=> + symbol is one only but it is doing many operations)"
   ]
  },
  {
   "cell_type": "code",
   "execution_count": 7,
   "id": "0da85701",
   "metadata": {},
   "outputs": [
    {
     "name": "stdout",
     "output_type": "stream",
     "text": [
      "7\n"
     ]
    }
   ],
   "source": [
    "a=2 + 5 # we can say it is doing addition of two number\n",
    "print(a)"
   ]
  },
  {
   "cell_type": "code",
   "execution_count": 8,
   "id": "af4fb7e0",
   "metadata": {},
   "outputs": [
    {
     "name": "stdout",
     "output_type": "stream",
     "text": [
      "[1, 2, 3, 4]\n"
     ]
    }
   ],
   "source": [
    "b=[1,2] + [3,4] #it is concatenating two lists\n",
    "print(b)"
   ]
  },
  {
   "cell_type": "code",
   "execution_count": 9,
   "id": "545b4f68",
   "metadata": {},
   "outputs": [
    {
     "name": "stdout",
     "output_type": "stream",
     "text": [
      "techcodio\n"
     ]
    }
   ],
   "source": [
    "c='tech' + 'codio' #it is concatenating two strings\n",
    "print(c)"
   ]
  },
  {
   "cell_type": "markdown",
   "id": "5f215439",
   "metadata": {},
   "source": [
    "# <span style=\"color: #FF4500;\">Real World Example of Polymorphism</span>\n",
    "## Polymorphism in Python: A Real-World Analogy\n",
    "\n",
    "Imagine you have a remote control. This remote control can operate various devices like a TV, a fan, and a music player. Now, each device responds differently to the \"power\" button on the remote. When you press the \"power\" button, the TV turns on, the fan starts spinning, and the music player begins playing a song.\n",
    "\n",
    "In the programming world, this ability of different objects (TV, fan, music player) to respond to the same method (power button) in their own way is similar to polymorphism."
   ]
  },
  {
   "cell_type": "markdown",
   "id": "3252ebdf",
   "metadata": {},
   "source": [
    "![](https://www.bing.com/images/search?view=detailV2&ccid=2WPAevtm&id=04785B8A9E7914A0DBA4B463A158F568326B3754&thid=OIP.2WPAevtmhvbTZVKoxauWBQHaHa&mediaurl=https%3a%2f%2fth.bing.com%2fth%2fid%2fR.d963c07afb6686f6d36552a8c5ab9605%3frik%3dVDdrMmj1WKFjtA%26riu%3dhttp%253a%252f%252fwww.bhphotovideo.com%252fimages%252fimages2500x2500%252fharmony_logitech_915000203_harmony_ultimate_remote_control_1038782.jpg%26ehk%3dRLfd7i0umvhZRneJYk88h43bxl%252fiGnovtnKpfDlMiPw%253d%26risl%3d%26pid%3dImgRaw%26r%3d0&exph=2500&expw=2500&q=remote&simid=608042313221549578&FORM=IRPRST&ck=3534EBFE2E7B7200CD3BB3B6E95F3A58&selectedIndex=1&itb=0)"
   ]
  },
  {
   "cell_type": "markdown",
   "id": "7f2eca17",
   "metadata": {},
   "source": [
    "![](https://th.bing.com/th/id/OIP.2WPAevtmhvbTZVKoxauWBQHaHa?w=181&h=181&c=7&r=0&o=5&dpr=1.3&pid=1.7)"
   ]
  },
  {
   "cell_type": "markdown",
   "id": "ec5aa48c",
   "metadata": {},
   "source": [
    "# <span style=\"color: #8A2BE2;\">Code for above remote example </span>\n"
   ]
  },
  {
   "cell_type": "code",
   "execution_count": 3,
   "id": "3b92c205",
   "metadata": {},
   "outputs": [],
   "source": [
    "class Device:\n",
    "    def power_button(self):\n",
    "        pass #keyword\n",
    "class TV(Device):\n",
    "    def power_button(self):\n",
    "        return 'TV is turned on'\n",
    "class Fan(Device):\n",
    "    def power_button(self):\n",
    "        return 'Fan starts spinning'\n",
    "class Musicpalyer(Device):\n",
    "    def power_button(self):\n",
    "        return '  the music player begins playing a song.'"
   ]
  },
  {
   "cell_type": "code",
   "execution_count": 4,
   "id": "2de78e3f",
   "metadata": {},
   "outputs": [
    {
     "data": {
      "text/plain": [
       "'TV is turned on'"
      ]
     },
     "execution_count": 4,
     "metadata": {},
     "output_type": "execute_result"
    }
   ],
   "source": [
    "tv=TV()\n",
    "tv.power_button()"
   ]
  },
  {
   "cell_type": "code",
   "execution_count": 5,
   "id": "cba471df",
   "metadata": {},
   "outputs": [
    {
     "data": {
      "text/plain": [
       "'Fan starts spinning'"
      ]
     },
     "execution_count": 5,
     "metadata": {},
     "output_type": "execute_result"
    }
   ],
   "source": [
    "fan=Fan()\n",
    "fan.power_button()"
   ]
  },
  {
   "cell_type": "code",
   "execution_count": 6,
   "id": "90e3eeac",
   "metadata": {},
   "outputs": [
    {
     "data": {
      "text/plain": [
       "'  the music player begins playing a song.'"
      ]
     },
     "execution_count": 6,
     "metadata": {},
     "output_type": "execute_result"
    }
   ],
   "source": [
    "music=Musicpalyer()\n",
    "music.power_button()"
   ]
  },
  {
   "cell_type": "code",
   "execution_count": null,
   "id": "2aef3ff8",
   "metadata": {},
   "outputs": [],
   "source": []
  },
  {
   "cell_type": "code",
   "execution_count": null,
   "id": "b86db70e",
   "metadata": {},
   "outputs": [],
   "source": [
    "\n",
    "\n",
    "\n"
   ]
  },
  {
   "cell_type": "code",
   "execution_count": null,
   "id": "834deb64",
   "metadata": {},
   "outputs": [],
   "source": []
  },
  {
   "cell_type": "code",
   "execution_count": null,
   "id": "758dcfc7",
   "metadata": {},
   "outputs": [],
   "source": []
  },
  {
   "cell_type": "code",
   "execution_count": null,
   "id": "44e01f1e",
   "metadata": {},
   "outputs": [],
   "source": []
  },
  {
   "cell_type": "code",
   "execution_count": null,
   "id": "682eabce",
   "metadata": {},
   "outputs": [],
   "source": []
  },
  {
   "cell_type": "code",
   "execution_count": null,
   "id": "a3a7546a",
   "metadata": {},
   "outputs": [],
   "source": []
  },
  {
   "cell_type": "code",
   "execution_count": null,
   "id": "6e57e540",
   "metadata": {},
   "outputs": [],
   "source": []
  },
  {
   "cell_type": "code",
   "execution_count": null,
   "id": "4e354be0",
   "metadata": {},
   "outputs": [],
   "source": [
    "\n",
    "\n"
   ]
  },
  {
   "cell_type": "code",
   "execution_count": null,
   "id": "66aa1b42",
   "metadata": {},
   "outputs": [],
   "source": []
  },
  {
   "cell_type": "code",
   "execution_count": null,
   "id": "2f41f95c",
   "metadata": {},
   "outputs": [],
   "source": []
  },
  {
   "cell_type": "code",
   "execution_count": 1,
   "id": "37072338",
   "metadata": {},
   "outputs": [
    {
     "name": "stdout",
     "output_type": "stream",
     "text": [
      "TV is turned on\n",
      "Fan is spinning\n",
      "Music player is playing a song\n"
     ]
    }
   ],
   "source": [
    "\n",
    "class Device:\n",
    "    def power_button(self):\n",
    "        pass  # The base class has a method for the power button, but it's not implemented here\n",
    "\n",
    "class TV(Device):\n",
    "    def power_button(self):\n",
    "        return \"TV is turned on\"\n",
    "\n",
    "class Fan(Device):\n",
    "    def power_button(self):\n",
    "        return \"Fan is spinning\"\n",
    "\n",
    "class MusicPlayer(Device):\n",
    "    def power_button(self):\n",
    "        return \"Music player is playing a song\"\n",
    "\n",
    "# Example of using polymorphism\n",
    "devices = [TV(), Fan(), MusicPlayer()]\n",
    "\n",
    "for device in devices:\n",
    "    print(device.power_button())\n"
   ]
  },
  {
   "cell_type": "code",
   "execution_count": 2,
   "id": "2c9183b1",
   "metadata": {},
   "outputs": [
    {
     "data": {
      "text/plain": [
       "'TV is turned on'"
      ]
     },
     "execution_count": 2,
     "metadata": {},
     "output_type": "execute_result"
    }
   ],
   "source": [
    "tv=TV()\n",
    "tv.power_button()"
   ]
  },
  {
   "cell_type": "code",
   "execution_count": null,
   "id": "42bd9630",
   "metadata": {},
   "outputs": [],
   "source": []
  }
 ],
 "metadata": {
  "kernelspec": {
   "display_name": "Python 3 (ipykernel)",
   "language": "python",
   "name": "python3"
  },
  "language_info": {
   "codemirror_mode": {
    "name": "ipython",
    "version": 3
   },
   "file_extension": ".py",
   "mimetype": "text/x-python",
   "name": "python",
   "nbconvert_exporter": "python",
   "pygments_lexer": "ipython3",
   "version": "3.11.5"
  }
 },
 "nbformat": 4,
 "nbformat_minor": 5
}
