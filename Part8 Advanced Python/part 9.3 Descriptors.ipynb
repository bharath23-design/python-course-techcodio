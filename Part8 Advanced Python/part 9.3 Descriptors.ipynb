{
 "cells": [
  {
   "cell_type": "markdown",
   "id": "b94b5701-9ccd-4b9d-8c27-0a47e4b85d0f",
   "metadata": {},
   "source": [
    "# Agenda\n",
    "### What are descriptors in python\n",
    "### __get__\n",
    "### __set__\n",
    "### __delete__\n",
    "### Example of descriptors "
   ]
  },
  {
   "cell_type": "markdown",
   "id": "b02a3693-f0c2-461c-8793-f8b383aa9745",
   "metadata": {},
   "source": [
    "# What are decsriptors \n",
    "Python descriptors are created to manage the attributes of different classes which use the object as reference. In descriptors we used three different methods that are __getters__(), __setters__(), and __delete__(). If any of those methods are defined for an object, it can be termed as a descriptor. Normally, Python uses methods like getters and setters to adjust the values on attributes without any special processing. It’s just a basic storage system. "
   ]
  },
  {
   "cell_type": "markdown",
   "id": "c9c07892-13ba-4df0-ad3f-3925cc8d9910",
   "metadata": {},
   "source": [
    "# getter: __get__\n",
    "- The __get__ method is used to retrieve the value of an attribute."
   ]
  },
  {
   "cell_type": "code",
   "execution_count": 6,
   "id": "01b57143-f7a2-4172-b8fe-0e3a1823dc49",
   "metadata": {},
   "outputs": [
    {
     "name": "stdout",
     "output_type": "stream",
     "text": [
      "Getting the value:GOT value for get method\n"
     ]
    }
   ],
   "source": [
    "class getmethod:\n",
    "    def __init__(self,value=None):\n",
    "        self.value=value\n",
    "    def __get__(self,b,c):\n",
    "        return f'Getting the value:{self.value}'\n",
    "class Myclass:\n",
    "    attribute=getmethod('GOT value for get method')\n",
    "\n",
    "obj=Myclass()\n",
    "print(obj.attribute)"
   ]
  },
  {
   "cell_type": "markdown",
   "id": "216a8d98-a800-4b6c-b557-de1ea6ab88b1",
   "metadata": {},
   "source": [
    "# setter \n",
    "- The __set__ method is used to set the value of an attribute."
   ]
  },
  {
   "cell_type": "code",
   "execution_count": 12,
   "id": "8fe1bafe-b36d-472c-b9a9-2eee2651c4b7",
   "metadata": {},
   "outputs": [
    {
     "name": "stdout",
     "output_type": "stream",
     "text": [
      "getting value techcodio\n"
     ]
    }
   ],
   "source": [
    "class SetDescriptor:\n",
    "    def __init__(self):\n",
    "        self.value = None\n",
    "    \n",
    "    def __get__(self, instance, owner):\n",
    "        return f'getting value {self.value}'\n",
    "    \n",
    "    def __set__(self, instance, value):\n",
    "        if not isinstance(value, str):\n",
    "            raise ValueError(\"Must be a string\")\n",
    "        self.value = value\n",
    "\n",
    "class MyClass:\n",
    "    attribute = SetDescriptor()\n",
    "\n",
    "obj = MyClass()\n",
    "obj.attribute = 'techcodio'\n",
    "print(obj.attribute)  # Output: Hello, World!\n",
    "# obj.attribute = 123  # Raises ValueError: Must be a string\n",
    "\n",
    "\n"
   ]
  },
  {
   "cell_type": "markdown",
   "id": "8cb5a4de-f0f8-4de0-9eef-55419b545a66",
   "metadata": {},
   "source": [
    "# delete\n",
    "The __delete__ method is used to delete the attribute."
   ]
  },
  {
   "cell_type": "code",
   "execution_count": 16,
   "id": "69cce761-6cf8-47c6-890e-7ab2a2950797",
   "metadata": {},
   "outputs": [
    {
     "name": "stdout",
     "output_type": "stream",
     "text": [
      "Value assigned \n",
      "Deleting attribute...\n"
     ]
    },
    {
     "ename": "AttributeError",
     "evalue": "'DeleteDescriptor' object has no attribute 'value'",
     "output_type": "error",
     "traceback": [
      "\u001b[1;31m---------------------------------------------------------------------------\u001b[0m",
      "\u001b[1;31mAttributeError\u001b[0m                            Traceback (most recent call last)",
      "Cell \u001b[1;32mIn[16], line 21\u001b[0m\n\u001b[0;32m     19\u001b[0m \u001b[38;5;28mprint\u001b[39m(obj\u001b[38;5;241m.\u001b[39mattribute)  \u001b[38;5;66;03m# Output: Delete Me\u001b[39;00m\n\u001b[0;32m     20\u001b[0m \u001b[38;5;28;01mdel\u001b[39;00m obj\u001b[38;5;241m.\u001b[39mattribute  \u001b[38;5;66;03m# Output: Deleting attribute...\u001b[39;00m\n\u001b[1;32m---> 21\u001b[0m \u001b[38;5;28mprint\u001b[39m(obj\u001b[38;5;241m.\u001b[39mattribute)\n",
      "Cell \u001b[1;32mIn[16], line 6\u001b[0m, in \u001b[0;36mDeleteDescriptor.__get__\u001b[1;34m(self, instance, owner)\u001b[0m\n\u001b[0;32m      5\u001b[0m \u001b[38;5;28;01mdef\u001b[39;00m \u001b[38;5;21m__get__\u001b[39m(\u001b[38;5;28mself\u001b[39m, instance, owner):\n\u001b[1;32m----> 6\u001b[0m     \u001b[38;5;28;01mreturn\u001b[39;00m \u001b[38;5;28mself\u001b[39m\u001b[38;5;241m.\u001b[39mvalue\n",
      "\u001b[1;31mAttributeError\u001b[0m: 'DeleteDescriptor' object has no attribute 'value'"
     ]
    }
   ],
   "source": [
    "class DeleteDescriptor:\n",
    "    def __init__(self, value=None):\n",
    "        self.value = value\n",
    "    \n",
    "    def __get__(self, instance, owner):\n",
    "        return self.value\n",
    "    \n",
    "    def __set__(self, instance, value):\n",
    "        self.value = value\n",
    "    \n",
    "    def __delete__(self, instance):\n",
    "        print(\"Deleting attribute...\")\n",
    "        del self.value\n",
    "\n",
    "class MyClass:\n",
    "    attribute = DeleteDescriptor(\"Value assigned \")\n",
    "\n",
    "obj = MyClass()\n",
    "print(obj.attribute)  # Output: Delete Me\n",
    "del obj.attribute  # Output: Deleting attribute...\n",
    "print(obj.attribute)  # Raises AttributeError\n",
    "\n"
   ]
  },
  {
   "cell_type": "code",
   "execution_count": null,
   "id": "cc4d022f-30e5-45b2-92a4-9fe7d15c0548",
   "metadata": {},
   "outputs": [],
   "source": []
  },
  {
   "cell_type": "code",
   "execution_count": null,
   "id": "321577ff-3ef5-48f4-8d13-e9bb49388a8a",
   "metadata": {},
   "outputs": [],
   "source": []
  },
  {
   "cell_type": "code",
   "execution_count": null,
   "id": "b3a9a6d9-becc-4831-88ce-48904aaadb62",
   "metadata": {},
   "outputs": [],
   "source": []
  },
  {
   "cell_type": "code",
   "execution_count": null,
   "id": "5586a637-a7f7-41df-b355-0ab4535d9bbf",
   "metadata": {},
   "outputs": [],
   "source": []
  },
  {
   "cell_type": "code",
   "execution_count": null,
   "id": "1bf47d7a-a80b-4b2d-bc55-0ce5e17f827b",
   "metadata": {},
   "outputs": [],
   "source": []
  },
  {
   "cell_type": "code",
   "execution_count": null,
   "id": "ac066502-7692-4061-a63e-949c62687cb5",
   "metadata": {},
   "outputs": [],
   "source": []
  }
 ],
 "metadata": {
  "kernelspec": {
   "display_name": "Python 3 (ipykernel)",
   "language": "python",
   "name": "python3"
  },
  "language_info": {
   "codemirror_mode": {
    "name": "ipython",
    "version": 3
   },
   "file_extension": ".py",
   "mimetype": "text/x-python",
   "name": "python",
   "nbconvert_exporter": "python",
   "pygments_lexer": "ipython3",
   "version": "3.11.7"
  }
 },
 "nbformat": 4,
 "nbformat_minor": 5
}
