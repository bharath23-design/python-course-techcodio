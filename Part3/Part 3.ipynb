{
 "cells": [
  {
   "cell_type": "markdown",
   "id": "8da0689f",
   "metadata": {},
   "source": [
    "# Agenda \n",
    "- what is function\n",
    "- creating and calling function\n",
    "- Arguments and parameters\n",
    "- passing a list into function\n",
    "- return values\n",
    "- pass statement \n",
    "- nested functions\n",
    "- building a calculator\n"
   ]
  },
  {
   "cell_type": "markdown",
   "id": "7eec0f9e",
   "metadata": {},
   "source": [
    "# What is function\n",
    "A function is a block of code which only runs when it is called.\n",
    "\n",
    "You can pass data, known as parameters, into a function.\n",
    "\n",
    "A function can return data as a result."
   ]
  },
  {
   "cell_type": "code",
   "execution_count": null,
   "id": "53d915bd",
   "metadata": {},
   "outputs": [],
   "source": []
  },
  {
   "cell_type": "code",
   "execution_count": null,
   "id": "9f88489b",
   "metadata": {},
   "outputs": [],
   "source": []
  },
  {
   "cell_type": "code",
   "execution_count": null,
   "id": "e9e90ad6",
   "metadata": {},
   "outputs": [],
   "source": []
  },
  {
   "cell_type": "code",
   "execution_count": 1,
   "id": "d73e4758",
   "metadata": {},
   "outputs": [],
   "source": [
    "def Nameoffunction():\n",
    "    print('techcodio')"
   ]
  },
  {
   "cell_type": "code",
   "execution_count": 2,
   "id": "1f5a765b",
   "metadata": {},
   "outputs": [
    {
     "name": "stdout",
     "output_type": "stream",
     "text": [
      "techcodio\n"
     ]
    }
   ],
   "source": [
    "Nameoffunction()"
   ]
  },
  {
   "cell_type": "code",
   "execution_count": 3,
   "id": "434b553c",
   "metadata": {},
   "outputs": [
    {
     "name": "stdout",
     "output_type": "stream",
     "text": [
      "techcodio\n"
     ]
    }
   ],
   "source": [
    "Nameoffunction()"
   ]
  },
  {
   "cell_type": "code",
   "execution_count": 5,
   "id": "6caf8e54",
   "metadata": {},
   "outputs": [
    {
     "name": "stdout",
     "output_type": "stream",
     "text": [
      "techcodio\n",
      "techcodio\n",
      "techcodio\n",
      "techcodio\n"
     ]
    }
   ],
   "source": [
    "# it reduces code rewriting"
   ]
  },
  {
   "cell_type": "markdown",
   "id": "4e72fffa",
   "metadata": {},
   "source": [
    "# Arguments\n",
    "Information can be passed into functions as arguments.\n",
    "\n",
    "Arguments are specified after the function name, inside the parentheses. You can add as many arguments as you want, just separate them with a comma."
   ]
  },
  {
   "cell_type": "code",
   "execution_count": 11,
   "id": "c12b0a88",
   "metadata": {},
   "outputs": [
    {
     "name": "stdout",
     "output_type": "stream",
     "text": [
      "8\n"
     ]
    }
   ],
   "source": [
    "def add(a,b):\n",
    "    print(a+b)\n",
    "add(3,5)    "
   ]
  },
  {
   "cell_type": "code",
   "execution_count": null,
   "id": "4f53dfcb",
   "metadata": {},
   "outputs": [],
   "source": []
  },
  {
   "cell_type": "code",
   "execution_count": null,
   "id": "0313b8e0",
   "metadata": {},
   "outputs": [],
   "source": []
  },
  {
   "cell_type": "code",
   "execution_count": null,
   "id": "b432ba56",
   "metadata": {},
   "outputs": [],
   "source": []
  },
  {
   "cell_type": "markdown",
   "id": "694f600b",
   "metadata": {},
   "source": [
    "# Arbitrary Arguments, *args or varaible length\n",
    "If you do not know how many arguments that will be passed into your function, add a * before the parameter name in the function definition.\n",
    "\n",
    "This way the function will receive a tuple of arguments, and can access the items accordingly"
   ]
  },
  {
   "cell_type": "code",
   "execution_count": 20,
   "id": "fce000db",
   "metadata": {},
   "outputs": [
    {
     "name": "stdout",
     "output_type": "stream",
     "text": [
      "(2, 4, 5, 6, 7, 6, 8, 9, 90, 0, 0, 0, 0)\n"
     ]
    }
   ],
   "source": [
    " #tuple\n",
    "def enter(*a):\n",
    "    print(a)\n",
    "enter(2,4,5,6,7,6,8,9,90,0,0,0,0)   "
   ]
  },
  {
   "cell_type": "markdown",
   "id": "06ddc554",
   "metadata": {},
   "source": [
    "# Keyword Argument\n",
    "You can also send arguments with the key = value syntax."
   ]
  },
  {
   "cell_type": "code",
   "execution_count": 30,
   "id": "f3ae6479",
   "metadata": {},
   "outputs": [
    {
     "name": "stdout",
     "output_type": "stream",
     "text": [
      "4\n"
     ]
    }
   ],
   "source": [
    "def add(a):\n",
    "    print(a)\n",
    "add(a=4)    \n",
    "    "
   ]
  },
  {
   "cell_type": "code",
   "execution_count": null,
   "id": "a95f7fc6",
   "metadata": {},
   "outputs": [],
   "source": []
  },
  {
   "cell_type": "code",
   "execution_count": null,
   "id": "14bd9c7b",
   "metadata": {},
   "outputs": [],
   "source": []
  },
  {
   "cell_type": "markdown",
   "id": "c2ccde8b",
   "metadata": {},
   "source": [
    " # Arbitrary Keyword Arguments, **kwargs  or keyword vairable length\n"
   ]
  },
  {
   "cell_type": "code",
   "execution_count": 37,
   "id": "37a8dfc9",
   "metadata": {},
   "outputs": [
    {
     "name": "stdout",
     "output_type": "stream",
     "text": [
      "{'a': 3, 'b': 4, 'c': 5, 'd': 8}\n"
     ]
    }
   ],
   "source": [
    "def enterkeyandvalue(**a):\n",
    "    print(a)\n",
    "enterkeyandvalue(a=3,b=4,c=5,d=8)    "
   ]
  },
  {
   "cell_type": "code",
   "execution_count": 35,
   "id": "a3980622",
   "metadata": {},
   "outputs": [
    {
     "name": "stdout",
     "output_type": "stream",
     "text": [
      "{'a': 3, 'b': 4, 'c': 5, 'd': 8}\n"
     ]
    }
   ],
   "source": [
    "enterkeyandvalue(a=3,b=4,c=5,d=8)  #"
   ]
  },
  {
   "cell_type": "markdown",
   "id": "ba40b237",
   "metadata": {},
   "source": [
    "# Default Parameter Value\n",
    "The following example shows how to use a default parameter value.\n",
    "\n",
    "If we call the function without argument, it uses the default value:"
   ]
  },
  {
   "cell_type": "code",
   "execution_count": 44,
   "id": "2df90a9f",
   "metadata": {},
   "outputs": [
    {
     "name": "stdout",
     "output_type": "stream",
     "text": [
      "7\n"
     ]
    }
   ],
   "source": [
    "def add(a=10,b=10):\n",
    "    print(a+b)\n",
    "add(3,4)    "
   ]
  },
  {
   "cell_type": "code",
   "execution_count": null,
   "id": "3de199ed",
   "metadata": {},
   "outputs": [],
   "source": []
  },
  {
   "cell_type": "markdown",
   "id": "f5159afa",
   "metadata": {},
   "source": [
    "# Passing a List as an Argument\n",
    "You can send any data types of argument to a function (string, number, list, dictionary etc.), and it will be treated as the same data type inside the function."
   ]
  },
  {
   "cell_type": "code",
   "execution_count": 46,
   "id": "4dcd52a0",
   "metadata": {},
   "outputs": [
    {
     "name": "stdout",
     "output_type": "stream",
     "text": [
      "[30, 40, 50]\n"
     ]
    }
   ],
   "source": [
    "passing_list=[1,2,3,4,5]\n",
    "def listinthefunction(a):\n",
    "    print(a)\n",
    "listinthefunction([30,40,50])    "
   ]
  },
  {
   "cell_type": "code",
   "execution_count": null,
   "id": "0f364e85",
   "metadata": {},
   "outputs": [],
   "source": []
  },
  {
   "cell_type": "code",
   "execution_count": null,
   "id": "59f7bfa0",
   "metadata": {},
   "outputs": [],
   "source": []
  },
  {
   "cell_type": "markdown",
   "id": "bc7598dd",
   "metadata": {},
   "source": [
    "# Return Values\n",
    "To let a function return a value, use the return statement:"
   ]
  },
  {
   "cell_type": "code",
   "execution_count": 49,
   "id": "4ec8866d",
   "metadata": {},
   "outputs": [
    {
     "data": {
      "text/plain": [
       "2"
      ]
     },
     "execution_count": 49,
     "metadata": {},
     "output_type": "execute_result"
    }
   ],
   "source": [
    "def returing_value(a,b):\n",
    "    return a -b\n",
    "returing_value(7,5)"
   ]
  },
  {
   "cell_type": "markdown",
   "id": "9765630a",
   "metadata": {},
   "source": [
    "# The pass Statement\n",
    "function definitions cannot be empty, but if you for some reason have a function definition with no content, put in the pass statement to avoid getting an error."
   ]
  },
  {
   "cell_type": "code",
   "execution_count": 51,
   "id": "36acb579",
   "metadata": {},
   "outputs": [],
   "source": [
    "def empty_function():\n",
    "     pass\n",
    "empty_function()"
   ]
  },
  {
   "cell_type": "code",
   "execution_count": null,
   "id": "87417d80",
   "metadata": {},
   "outputs": [],
   "source": []
  },
  {
   "cell_type": "code",
   "execution_count": null,
   "id": "8d008d11",
   "metadata": {},
   "outputs": [],
   "source": []
  },
  {
   "cell_type": "markdown",
   "id": "5f5dfdbe",
   "metadata": {},
   "source": [
    "# Nested fuctions\n",
    "- a function in side another function"
   ]
  },
  {
   "cell_type": "code",
   "execution_count": 55,
   "id": "fdaab5d3",
   "metadata": {},
   "outputs": [
    {
     "name": "stdout",
     "output_type": "stream",
     "text": [
      "Hi, Adepu  Bharath kumar!\n"
     ]
    }
   ],
   "source": [
    "def greeting(first, last):\n",
    "  # nested helper function\n",
    "  def getFullName():\n",
    "    return first + \" \" + last\n",
    "\n",
    "  print(\"Hi, \" + getFullName() + \"!\")\n",
    "\n",
    "greeting('Adepu ', 'Bharath kumar')"
   ]
  },
  {
   "cell_type": "markdown",
   "id": "952eb897",
   "metadata": {},
   "source": [
    "# building a calculator"
   ]
  },
  {
   "cell_type": "code",
   "execution_count": 57,
   "id": "331f3d8c",
   "metadata": {},
   "outputs": [
    {
     "name": "stdout",
     "output_type": "stream",
     "text": [
      "enter number for a5\n",
      "enter number for b0\n",
      "enter the operation you want to do (+,-,*,/)+\n",
      "5\n"
     ]
    }
   ],
   "source": [
    "a=int(input('enter number for a'))\n",
    "b=int(input('enter number for b'))\n",
    "operation=input('enter the operation you want to do (+,-,*,/)')\n",
    "def Calculator(a,b):\n",
    "    if operation==\"+\":\n",
    "        print(a +b)\n",
    "    elif operation==\"-\":\n",
    "        print(a -b)\n",
    "    elif operation==\"*\":\n",
    "        print(a *b)\n",
    "    elif operation==\"/\":\n",
    "        print(a /b)\n",
    "    else:\n",
    "        print('enter the below operation(+,-,*,/)')\n",
    "       \n",
    "        \n",
    "Calculator(a,b)        \n",
    "    "
   ]
  },
  {
   "cell_type": "code",
   "execution_count": null,
   "id": "ba4b9817",
   "metadata": {},
   "outputs": [],
   "source": []
  },
  {
   "cell_type": "code",
   "execution_count": null,
   "id": "b62627b0",
   "metadata": {},
   "outputs": [],
   "source": []
  },
  {
   "cell_type": "code",
   "execution_count": null,
   "id": "5f6a00f1",
   "metadata": {},
   "outputs": [],
   "source": []
  },
  {
   "cell_type": "code",
   "execution_count": null,
   "id": "6021553f",
   "metadata": {},
   "outputs": [],
   "source": []
  },
  {
   "cell_type": "code",
   "execution_count": null,
   "id": "9788c13c",
   "metadata": {},
   "outputs": [],
   "source": []
  },
  {
   "cell_type": "code",
   "execution_count": null,
   "id": "ab6c0303",
   "metadata": {},
   "outputs": [],
   "source": []
  },
  {
   "cell_type": "code",
   "execution_count": null,
   "id": "05fb841f",
   "metadata": {},
   "outputs": [],
   "source": []
  },
  {
   "cell_type": "code",
   "execution_count": null,
   "id": "f9d12694",
   "metadata": {},
   "outputs": [],
   "source": []
  },
  {
   "cell_type": "code",
   "execution_count": null,
   "id": "def6ac7d",
   "metadata": {},
   "outputs": [],
   "source": []
  },
  {
   "cell_type": "code",
   "execution_count": null,
   "id": "ded67a68",
   "metadata": {},
   "outputs": [],
   "source": []
  },
  {
   "cell_type": "code",
   "execution_count": null,
   "id": "5da089d6",
   "metadata": {},
   "outputs": [],
   "source": []
  },
  {
   "cell_type": "code",
   "execution_count": null,
   "id": "ac920116",
   "metadata": {},
   "outputs": [],
   "source": []
  },
  {
   "cell_type": "code",
   "execution_count": null,
   "id": "23c9737b",
   "metadata": {},
   "outputs": [],
   "source": []
  },
  {
   "cell_type": "code",
   "execution_count": null,
   "id": "7bf04887",
   "metadata": {},
   "outputs": [],
   "source": [
    "https://pynative.com/python-functions-exercise-with-solutions/"
   ]
  }
 ],
 "metadata": {
  "kernelspec": {
   "display_name": "Python 3 (ipykernel)",
   "language": "python",
   "name": "python3"
  },
  "language_info": {
   "codemirror_mode": {
    "name": "ipython",
    "version": 3
   },
   "file_extension": ".py",
   "mimetype": "text/x-python",
   "name": "python",
   "nbconvert_exporter": "python",
   "pygments_lexer": "ipython3",
   "version": "3.9.13"
  }
 },
 "nbformat": 4,
 "nbformat_minor": 5
}
