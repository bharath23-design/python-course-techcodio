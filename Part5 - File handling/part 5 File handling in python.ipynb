{
 "cells": [
  {
   "cell_type": "markdown",
   "id": "4918b11d",
   "metadata": {},
   "source": [
    "# Agenda\n",
    "- what is file handling\n",
    "- file modes\n",
    "- Reading the file\n",
    "- appending the file\n",
    "- writing the file\n",
    "- handling exceptions\n",
    "- working with csv and json files\n",
    "\n"
   ]
  },
  {
   "cell_type": "markdown",
   "id": "7c2b4b8a",
   "metadata": {},
   "source": [
    "# what is file handling \n",
    "File handling in Python refers to the process of working with files—reading from them, writing to them, and manipulating their contents.\n",
    "![fd](https://th.bing.com/th/id/R.9827d231e085176baf2696cd925eb55a?rik=Bx9a3BEoT7%2fQsg&riu=http%3a%2f%2fwww.pazzles.net%2fwordpress%2fwp-content%2fuploads%2fFile_icon.gif&ehk=KLYWg5fF8Kop8KF%2bQpMCBslgPTHKc94ZJpVblYV1Khk%3d&risl=&pid=ImgRaw&r=0)"
   ]
  },
  {
   "cell_type": "markdown",
   "id": "ee2990f7",
   "metadata": {},
   "source": [
    "## Opening a File:\n",
    "Use the open() function to open a file. It takes two arguments: the file path and the mode in which you want to open the file \n",
    "\n",
    "f = open(filename, mode)"
   ]
  },
  {
   "cell_type": "markdown",
   "id": "99fc5c67",
   "metadata": {},
   "source": [
    "# file - modes\n",
    "\n",
    "\n",
    "\n",
    "## Reading the file - 'r' mode\n",
    "- r: open an existing file for a read operation."
   ]
  },
  {
   "cell_type": "code",
   "execution_count": 8,
   "id": "fe091467",
   "metadata": {},
   "outputs": [
    {
     "name": "stdout",
     "output_type": "stream",
     "text": [
      "hello techcodio\n",
      "\n",
      "Adding a new line using r+ mode.\n"
     ]
    }
   ],
   "source": [
    "file=open('text.txt','r')\n",
    "print(file.read())"
   ]
  },
  {
   "cell_type": "code",
   "execution_count": null,
   "id": "214e5edc",
   "metadata": {},
   "outputs": [],
   "source": []
  },
  {
   "cell_type": "markdown",
   "id": "3bb71f18",
   "metadata": {},
   "source": [
    "# Reading the file - 'r+' mode:\n",
    "- r+: To read and write data into the file. `The previous data in the file will be overridde`"
   ]
  },
  {
   "cell_type": "code",
   "execution_count": 6,
   "id": "e0df9ad4",
   "metadata": {
    "scrolled": true
   },
   "outputs": [
    {
     "name": "stdout",
     "output_type": "stream",
     "text": [
      "hello techcodio\n",
      "\n",
      "Updated Content:\n",
      "hello techcodio\n",
      "\n",
      "Adding a new line using r+ mode.\n"
     ]
    }
   ],
   "source": [
    "file = open('text.txt', 'r+')\n",
    "for line in file:\n",
    "    print(line.strip())  # strip() removes the newline character at the end of each line\n",
    "\n",
    "file.write(\"\\nAdding a new line using r+ mode.\")\n",
    "file.seek(0)  # Move the file pointer to the beginning of the file\n",
    "\n",
    "print(\"\\nUpdated Content:\")\n",
    "for line in file:\n",
    "    print(line.strip())  # Read and print the updated content\n",
    "\n",
    "file.close()  # Close the file after operations are done\n"
   ]
  },
  {
   "cell_type": "markdown",
   "id": "6afe2787",
   "metadata": {},
   "source": [
    "# appending into the file: mode 'a'\n",
    "a: open an existing file for append operation. `It won’t override existing data.`"
   ]
  },
  {
   "cell_type": "code",
   "execution_count": 9,
   "id": "49300fd2",
   "metadata": {},
   "outputs": [],
   "source": [
    "file=open('text.txt','a')\n",
    "file.write('writing data into the file with append mode a')\n",
    "file.close()"
   ]
  },
  {
   "cell_type": "code",
   "execution_count": 10,
   "id": "6e7dcaee",
   "metadata": {},
   "outputs": [
    {
     "name": "stdout",
     "output_type": "stream",
     "text": [
      "hello techcodio\n",
      "\n",
      "Adding a new line using r+ mode.writing data into the file with append mode a\n"
     ]
    }
   ],
   "source": [
    "file=open('text.txt','r')\n",
    "print(file.read())"
   ]
  },
  {
   "cell_type": "code",
   "execution_count": null,
   "id": "b10b0541",
   "metadata": {},
   "outputs": [],
   "source": []
  },
  {
   "cell_type": "markdown",
   "id": "6815c41e",
   "metadata": {},
   "source": [
    "# appending into the file: mode 'a+':\n",
    "a+: To append and read data from the file. `It won’t override existing data.`"
   ]
  },
  {
   "cell_type": "code",
   "execution_count": 11,
   "id": "12b7c2d8",
   "metadata": {},
   "outputs": [
    {
     "name": "stdout",
     "output_type": "stream",
     "text": [
      "Initial Content:\n",
      "hello techcodio\n",
      "\n",
      "Adding a new line using r+ mode.writing data into the file with append mode a\n",
      "\n",
      "Updated Content:\n",
      "hello techcodio\n",
      "\n",
      "Adding a new line using r+ mode.writing data into the file with append mode a\n",
      "Adding a new line using a+ mode.\n"
     ]
    }
   ],
   "source": [
    "file = open('text.txt', 'a+')\n",
    "\n",
    "# Move the file pointer to the beginning to read the existing content\n",
    "file.seek(0)\n",
    "print(\"Initial Content:\")\n",
    "for line in file:\n",
    "    print(line.strip())  # strip() removes the newline character at the end of each line\n",
    "\n",
    "# Append a new line to the file\n",
    "file.write(\"\\nAdding a new line using a+ mode.\")\n",
    "\n",
    "# Move the file pointer to the beginning to read the updated content\n",
    "file.seek(0)\n",
    "print(\"\\nUpdated Content:\")\n",
    "for line in file:\n",
    "    print(line.strip())  # Read and print the updated content\n",
    "\n",
    "file.close()  # Close the file after operations are done\n"
   ]
  },
  {
   "cell_type": "markdown",
   "id": "35a1ea33",
   "metadata": {},
   "source": [
    "# Writing into files - 'w' mode\n",
    "w: open an existing file for a write operation. If the file already contains some data then it will be `overridden` but if the file is not present then it `creates the file as well`.\n",
    "\n"
   ]
  },
  {
   "cell_type": "code",
   "execution_count": 26,
   "id": "a2f50b94",
   "metadata": {},
   "outputs": [],
   "source": [
    "file=open('text.txt','w')\n",
    "file.write('all the data is removed')\n",
    "file.close()"
   ]
  },
  {
   "cell_type": "code",
   "execution_count": 27,
   "id": "72869b32",
   "metadata": {},
   "outputs": [
    {
     "name": "stdout",
     "output_type": "stream",
     "text": [
      "all the data is removed\n"
     ]
    }
   ],
   "source": [
    "file=open('text.txt','r')\n",
    "print(file.read())"
   ]
  },
  {
   "cell_type": "markdown",
   "id": "44f66c9c",
   "metadata": {},
   "source": [
    "# Writing into files - 'w +' mode\n",
    "w+: To write and read data. `It will override existing data.`\n",
    "\n"
   ]
  },
  {
   "cell_type": "code",
   "execution_count": 28,
   "id": "5d13a7c7",
   "metadata": {},
   "outputs": [
    {
     "name": "stdout",
     "output_type": "stream",
     "text": [
      "Updated Content:\n",
      "Writing new content using w+ mode.\n"
     ]
    }
   ],
   "source": [
    "file = open('text.txt', 'w+')\n",
    "file.write(\"Writing new content using w+ mode.\")\n",
    "\n",
    "# Move the file pointer to the beginning of the file\n",
    "file.seek(0)\n",
    "\n",
    "print(\"Updated Content:\")\n",
    "for line in file:\n",
    "    print(line.strip())  # Read and print the content\n",
    "\n",
    "file.close()  # Close the file after operations are done\n"
   ]
  },
  {
   "cell_type": "markdown",
   "id": "e5c8ff1e",
   "metadata": {},
   "source": [
    "# handling exceptions"
   ]
  },
  {
   "cell_type": "code",
   "execution_count": 34,
   "id": "7aabef44",
   "metadata": {},
   "outputs": [
    {
     "name": "stdout",
     "output_type": "stream",
     "text": [
      "The file was not found.\n"
     ]
    }
   ],
   "source": [
    "try:\n",
    "    file = open('text4.txt','r' )\n",
    "    for i in file:\n",
    "        print(i)\n",
    "    file.close()\n",
    "except FileNotFoundError:\n",
    "    \n",
    "    print(\"The file was not found.\")\n",
    "except Exception as e:\n",
    "    print(\"An error occurred:\", e)\n"
   ]
  },
  {
   "cell_type": "code",
   "execution_count": null,
   "id": "308c3dd6",
   "metadata": {},
   "outputs": [],
   "source": [
    "#what is the use of handling exception"
   ]
  },
  {
   "cell_type": "code",
   "execution_count": 35,
   "id": "ba51f090",
   "metadata": {},
   "outputs": [
    {
     "ename": "IndentationError",
     "evalue": "unexpected indent (3862289590.py, line 2)",
     "output_type": "error",
     "traceback": [
      "\u001b[1;36m  File \u001b[1;32m\"C:\\Users\\adepu bharath kumar\\AppData\\Local\\Temp\\ipykernel_8168\\3862289590.py\"\u001b[1;36m, line \u001b[1;32m2\u001b[0m\n\u001b[1;33m    for i in file:\u001b[0m\n\u001b[1;37m    ^\u001b[0m\n\u001b[1;31mIndentationError\u001b[0m\u001b[1;31m:\u001b[0m unexpected indent\n"
     ]
    }
   ],
   "source": [
    "file = open('text4.txt','r' )\n",
    "    for i in file:\n",
    "        print(i)"
   ]
  },
  {
   "cell_type": "code",
   "execution_count": null,
   "id": "d5f0db53",
   "metadata": {},
   "outputs": [],
   "source": [
    "# runtime error"
   ]
  },
  {
   "cell_type": "markdown",
   "id": "423140c9",
   "metadata": {},
   "source": [
    "# Working with csv\n",
    "## Reading the csv\n",
    "CSV stands for \"Comma-Separated Values.\" It's a simple file format used to store tabular data, such as a spreadsheet or a database.\n",
    "\n",
    "In a CSV file, each line represents a row of data, and each field within that row is separated by a comma (,). This format allows for the easy exchange of data between different programs that support CSV files."
   ]
  },
  {
   "cell_type": "code",
   "execution_count": 8,
   "id": "905273b8",
   "metadata": {},
   "outputs": [
    {
     "name": "stdout",
     "output_type": "stream",
     "text": [
      "Name,Age,City\n",
      "David,28,Chicago\n",
      "Emma,35,Houston\n",
      "bharath,22,Hyderabad\n",
      "\n"
     ]
    }
   ],
   "source": [
    "file=open('data.csv','r')\n",
    "print(file.read())"
   ]
  },
  {
   "cell_type": "markdown",
   "id": "7a25ef65",
   "metadata": {},
   "source": [
    "## Writing into csv"
   ]
  },
  {
   "cell_type": "code",
   "execution_count": 12,
   "id": "7058abea",
   "metadata": {},
   "outputs": [],
   "source": [
    "import csv\n",
    "\n",
    "# Writing to CSV\n",
    "data = [\n",
    "    ['Name', 'Age', 'City'],\n",
    "    ['balu', 23, 'HYd'],\n",
    "    ['Eshwar', 35, 'telangana']\n",
    "]\n",
    "\n",
    "with open('data.csv', 'w', newline='') as csvfile :\n",
    "    csv_writer = csv.writer(csvfile)\n",
    "    csv_writer.writerows(data)\n"
   ]
  },
  {
   "cell_type": "code",
   "execution_count": 13,
   "id": "b9f609df",
   "metadata": {},
   "outputs": [
    {
     "name": "stdout",
     "output_type": "stream",
     "text": [
      "['Name', 'Age', 'City']\n",
      "['balu', '23', 'HYd']\n",
      "['Eshwar', '35', 'telangana']\n"
     ]
    }
   ],
   "source": [
    "import csv\n",
    "\n",
    "# Reading from CSV\n",
    "with open('data.csv', 'r') as csvfile:\n",
    "    csv_reader = csv.reader(csvfile)\n",
    "    for row in csv_reader:\n",
    "        print(row)"
   ]
  },
  {
   "cell_type": "markdown",
   "id": "85b542d4",
   "metadata": {},
   "source": [
    "# Working with json\n",
    "JSON stands for \"JavaScript Object Notation.\" It's a lightweight data interchange format that is easy for humans to read and write, and it's also easy for machines to parse and generate.\n",
    "\n",
    "JSON is widely used for representing structured data and is commonly used for transmitting data between a server and a web application as it is language-independent and supported by many programming languages."
   ]
  },
  {
   "cell_type": "markdown",
   "id": "465f485c",
   "metadata": {},
   "source": [
    "## Reading the json data"
   ]
  },
  {
   "cell_type": "code",
   "execution_count": 14,
   "id": "9081b6f2",
   "metadata": {},
   "outputs": [
    {
     "name": "stdout",
     "output_type": "stream",
     "text": [
      "{'name': 'Bob', 'age': 30, 'city': 'San Francisco'}\n"
     ]
    }
   ],
   "source": [
    "import json\n",
    "\n",
    "# Reading from JSON\n",
    "with open('people.json', 'r') as jsonfile:\n",
    "    data = json.load(jsonfile)\n",
    "    print(data)\n"
   ]
  },
  {
   "cell_type": "markdown",
   "id": "3051e796",
   "metadata": {},
   "source": [
    "## Writing into json file"
   ]
  },
  {
   "cell_type": "code",
   "execution_count": 16,
   "id": "c6761d5a",
   "metadata": {},
   "outputs": [],
   "source": [
    "import json\n",
    "\n",
    "# Writing to JSON\n",
    "data = {\n",
    "    \"name\": \"Bharath\",\n",
    "    \"age\": 22,\n",
    "    \"city\": \"Hyderabad\"\n",
    "}\n",
    "\n",
    "with open('biodata.json', 'w') as jsonfile:\n",
    "    json.dump(data, jsonfile) # dump adds data into the file\n"
   ]
  },
  {
   "cell_type": "code",
   "execution_count": 17,
   "id": "f20798a7",
   "metadata": {},
   "outputs": [
    {
     "name": "stdout",
     "output_type": "stream",
     "text": [
      "{'name': 'Bharath', 'age': 22, 'city': 'Hyderabad'}\n"
     ]
    }
   ],
   "source": [
    "import json\n",
    "\n",
    "# Reading from JSON\n",
    "with open('biodata.json', 'r') as jsonfile:\n",
    "    data = json.load(jsonfile)\n",
    "    print(data)\n"
   ]
  },
  {
   "cell_type": "code",
   "execution_count": null,
   "id": "6f58c7dd",
   "metadata": {},
   "outputs": [],
   "source": [
    "\n"
   ]
  },
  {
   "cell_type": "code",
   "execution_count": null,
   "id": "ce9f70d6",
   "metadata": {},
   "outputs": [],
   "source": []
  }
 ],
 "metadata": {
  "kernelspec": {
   "display_name": "Python 3 (ipykernel)",
   "language": "python",
   "name": "python3"
  },
  "language_info": {
   "codemirror_mode": {
    "name": "ipython",
    "version": 3
   },
   "file_extension": ".py",
   "mimetype": "text/x-python",
   "name": "python",
   "nbconvert_exporter": "python",
   "pygments_lexer": "ipython3",
   "version": "3.11.5"
  }
 },
 "nbformat": 4,
 "nbformat_minor": 5
}
