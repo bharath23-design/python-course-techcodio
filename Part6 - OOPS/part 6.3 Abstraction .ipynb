{
 "cells": [
  {
   "cell_type": "markdown",
   "id": "88832dba",
   "metadata": {},
   "source": [
    "# Agenda\n",
    "- what is abstraction in python\n",
    "- Real world examples of it\n",
    "- Code for abstraction\n",
    "- advantages \n",
    "- disadvantages"
   ]
  },
  {
   "cell_type": "markdown",
   "id": "59950b6f",
   "metadata": {},
   "source": [
    "## What is abstraction\n",
    "\n",
    " Simply put, abstraction involves hiding complex implementation details and showing only the necessary features to the user. It allows us to focus on what something does rather than how it's done.\n"
   ]
  },
  {
   "cell_type": "markdown",
   "id": "8d30e02b",
   "metadata": {},
   "source": [
    "## Real world examples\n",
    "- let's consider a car. When you're driving, you don't need to know the intricate mechanics of the engine or transmission. You only need to understand the basic controls like the steering wheel, pedals, and gear shifter. That's abstraction in action!\n",
    "![s](https://th.bing.com/th?id=OIP.PZorRDkxVyrm-ggDV-UzvQHaFx&w=283&h=220&c=8&rs=1&qlt=90&o=6&dpr=1.3&pid=3.1&rm=2)\n",
    "\n",
    "-  Think about using a smartphone. You interact with the touchscreen, buttons, and apps without needing to understand the intricate hardware and software complexities that enable these functions. The user interface (UI) hides the technical details, allowing you to focus on using the phone rather than how it's built or operates internally.\n",
    "!['smart'](https://th.bing.com/th/id/OIP.HxCUDuhXiUIYR73NuIvIvQHaEp?w=262&h=180&c=7&r=0&o=5&dpr=1.3&pid=1.7)\n"
   ]
  },
  {
   "cell_type": "markdown",
   "id": "87d078a2",
   "metadata": {},
   "source": [
    " # Code for abstraction"
   ]
  },
  {
   "cell_type": "code",
   "execution_count": 2,
   "id": "f2852e8a",
   "metadata": {},
   "outputs": [],
   "source": [
    "# by default python don't support abstraction\n",
    "# we need to import from ABC package\n",
    "# ABC=> Abstract base classes"
   ]
  },
  {
   "cell_type": "code",
   "execution_count": 3,
   "id": "78951aca",
   "metadata": {},
   "outputs": [],
   "source": [
    "# create abstarct class, abstract method and concrete classes to access the abstract classs and method"
   ]
  },
  {
   "cell_type": "code",
   "execution_count": 21,
   "id": "d88b6511",
   "metadata": {},
   "outputs": [],
   "source": [
    "from abc import ABC, abstractmethod\n",
    "# create abstract class\n",
    "class Car(ABC): # abstract class is created\n",
    "    def __init__(self,brand,model,year):\n",
    "        self.brand=brand\n",
    "        self.model=model\n",
    "        self.year=year\n",
    "        \n",
    "        \n",
    "    @abstractmethod # with @ symbol we can create abstarct methods\n",
    "    def PrintDetails(self):\n",
    "        pass\n",
    "# for the car class we can't create object , beacuse it is abstract class\n",
    "# here it is hidgin this details\n",
    "# create child class\n",
    "\n",
    "class Ford(Car):\n",
    "    def PrintDetails(self):\n",
    "        print(self.brand)\n",
    "        print(self.model)\n",
    "        print(self.year)\n",
    "\n",
    "    def  Sunroof(self):\n",
    "        print('Yes we have sunroof')\n",
    "        "
   ]
  },
  {
   "cell_type": "code",
   "execution_count": 25,
   "id": "05599a89",
   "metadata": {},
   "outputs": [],
   "source": [
    "# note we can't create obejct for abstract class\n",
    "c1=Ford('Ford','Endaveour','2023') "
   ]
  },
  {
   "cell_type": "code",
   "execution_count": 26,
   "id": "4b1352e8",
   "metadata": {},
   "outputs": [
    {
     "name": "stdout",
     "output_type": "stream",
     "text": [
      "Ford\n",
      "Endaveour\n",
      "2023\n"
     ]
    }
   ],
   "source": [
    "c1.PrintDetails()"
   ]
  },
  {
   "cell_type": "code",
   "execution_count": 27,
   "id": "7ecc902e",
   "metadata": {},
   "outputs": [
    {
     "name": "stdout",
     "output_type": "stream",
     "text": [
      "Yes we have sunroof\n"
     ]
    }
   ],
   "source": [
    "c1.Sunroof()"
   ]
  },
  {
   "cell_type": "code",
   "execution_count": null,
   "id": "8eb4ad52",
   "metadata": {},
   "outputs": [],
   "source": [
    "# you have to understand the concept of abstraction rather code.\n",
    "# anyone can code, only few can understand concept!"
   ]
  },
  {
   "cell_type": "markdown",
   "id": "620b862a",
   "metadata": {},
   "source": [
    "# Advantages of abstraction in mobile phone\n",
    "\n",
    "\n",
    "\n",
    "### *Ease of Use:* \n",
    "Abstraction in smartphones makes them user-friendly. You don’t need to understand the complex coding or hardware architecture to send a message or make a call.\n",
    "!['smart'](https://th.bing.com/th/id/OIP.HxCUDuhXiUIYR73NuIvIvQHaEp?w=262&h=180&c=7&r=0&o=5&dpr=1.3&pid=1.7)\n",
    "\n",
    "### *Accessibility:*\n",
    "By abstracting away technical complexities, smartphones become accessible to a wider range of users, regardless of their technical expertise. This widens their appeal and usability.\n",
    "!['sf'](https://th.bing.com/th?id=OIP.quIn0bBw5IiorJlqWUmLeAHaE7&w=306&h=204&c=8&rs=1&qlt=90&o=6&dpr=1.3&pid=3.1&rm=2)\n",
    "\n",
    "## Disadvantages of  abstraction in mobile phone:\n",
    "\n",
    "### *Limited Control:*\n",
    "While abstraction simplifies usage, it can limit control over the device's inner workings. Advanced users might want more control for customization or specific tasks, but this might not be easily accessible due to the abstraction layers.\n",
    "!['dfa'](https://th.bing.com/th/id/OIP.PU6kMOLIH9-5MpIeef-RkQAAAA?w=115&h=180&c=7&r=0&o=5&dpr=1.3&pid=1.7)\n",
    "### *Dependency on Interface:* \n",
    "Abstraction can also create dependency on the user interface. If there's an issue or a need to troubleshoot deeper technical problems, the abstraction might hinder access to the underlying complexities, making it challenging to resolve issues without specialized knowledge.\n",
    "\n",
    "![sds](https://th.bing.com/th/id/OIP.IWPMQd1jEfvoZiLqmikdQQAAAA?w=220&h=180&c=7&r=0&o=5&dpr=1.3&pid=1.7)"
   ]
  },
  {
   "cell_type": "markdown",
   "id": "255000cb",
   "metadata": {},
   "source": [
    "# Advantages of Abstraction in Python:\n",
    "Simplicity and Manageability\n",
    "\n",
    "Code Reusability\n",
    "\n",
    "Encapsulation\n",
    "\n",
    "Flexibility and Adaptability\n",
    "\n",
    "Security\n",
    "\n",
    "\n",
    "Polymorphism\n",
    "\n",
    "# Disadvantages of Abstraction in Python:\n",
    "Overhead\n",
    "\n",
    "Learning Curve\n",
    "\n",
    "Possible Misuse\n",
    "\n",
    "Debugging Complexity\n",
    "\n",
    "Abstraction Leakage"
   ]
  }
 ],
 "metadata": {
  "kernelspec": {
   "display_name": "Python 3 (ipykernel)",
   "language": "python",
   "name": "python3"
  },
  "language_info": {
   "codemirror_mode": {
    "name": "ipython",
    "version": 3
   },
   "file_extension": ".py",
   "mimetype": "text/x-python",
   "name": "python",
   "nbconvert_exporter": "python",
   "pygments_lexer": "ipython3",
   "version": "3.11.5"
  }
 },
 "nbformat": 4,
 "nbformat_minor": 5
}
